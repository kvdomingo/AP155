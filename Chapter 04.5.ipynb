{
 "cells": [
  {
   "cell_type": "markdown",
   "metadata": {},
   "source": [
    "# App Physics 155 (lab)\n",
    "## February 14, 2018 <3"
   ]
  },
  {
   "cell_type": "code",
   "execution_count": 7,
   "metadata": {},
   "outputs": [],
   "source": [
    "import numpy as np\n",
    "import matplotlib.pyplot as mp\n",
    "from math import gamma"
   ]
  },
  {
   "cell_type": "markdown",
   "metadata": {},
   "source": [
    "$1.$ Create a function that computes for $\\Gamma(z)$ given $z \\geq 0$, using the Weierstrass definition of the gamma function. This is given by:\n",
    "\n",
    "\\begin{equation}\n",
    "    \\frac{1}{\\Gamma(z)} = ze^{\\gamma z} \\prod_{n=1}^{\\infty} (1 + \\frac{z}{n}) e^{\\frac{-z}{n}}\n",
    "\\end{equation}\n",
    "\n",
    "For $\\gamma$, the Euler-Mascheroni constant, use numpy.euler_gamma. The exponential function in numpy is numpy.exp(x). When evaluating the product, use a sufficiently high value for the upper limit that still results in a reasonably fast run time."
   ]
  },
  {
   "cell_type": "code",
   "execution_count": 8,
   "metadata": {},
   "outputs": [],
   "source": [
    "def gamma_user(z):\n",
    "    highlim = 500000\n",
    "    outerprod = z*np.exp(np.euler_gamma*z)\n",
    "    innerprod = 1\n",
    "    for n in range(1, highlim+1):\n",
    "        innerprod *= (1+(z/n))*np.exp(-z/n)\n",
    "    invgamma = outerprod*innerprod\n",
    "    gamma_weier = 1/invgamma\n",
    "    return gamma_weier"
   ]
  },
  {
   "cell_type": "code",
   "execution_count": 85,
   "metadata": {},
   "outputs": [
    {
     "data": {
      "text/plain": [
       "2.3632664838516209"
      ]
     },
     "execution_count": 85,
     "metadata": {},
     "output_type": "execute_result"
    }
   ],
   "source": [
    "gamma_user(-3/2)"
   ]
  },
  {
   "cell_type": "markdown",
   "metadata": {},
   "source": [
    "$2.$ Create a plot of gamma values for values of $z$ over the range $[0,5]$. Use a sufficiently high resolution that will give you a smooth curve. Bonus: Plot negative values until -5. Take care around the poles of the gamma function at negative integer values. "
   ]
  },
  {
   "cell_type": "code",
   "execution_count": 105,
   "metadata": {},
   "outputs": [
    {
     "name": "stderr",
     "output_type": "stream",
     "text": [
      "C:\\ProgramData\\Anaconda3\\lib\\site-packages\\ipykernel_launcher.py:8: RuntimeWarning: divide by zero encountered in true_divide\n",
      "  \n"
     ]
    },
    {
     "data": {
      "image/png": "[encoded data removed]",
      "text/plain": [
       "<matplotlib.figure.Figure at 0x25c8e849668>"
      ]
     },
     "metadata": {},
     "output_type": "display_data"
    }
   ],
   "source": [
    "x = np.linspace(-5,5, 1000)\n",
    "a = np.ones(50)\n",
    "ah = np.linspace(-100,100)\n",
    "y = gamma_user(x)\n",
    "mp.plot(x,y)\n",
    "mp.plot(0*a,ah, \"r\")\n",
    "mp.plot(-1*a,ah, \"r\")\n",
    "mp.plot(-2*a,ah, \"r\")\n",
    "mp.plot(-3*a,ah, \"r\")\n",
    "mp.plot(-4*a,ah, \"r\")\n",
    "mp.plot(-5*a,ah, \"r\")\n",
    "mp.ylim(-10,10)\n",
    "mp.show()"
   ]
  },
  {
   "cell_type": "markdown",
   "metadata": {},
   "source": [
    "$3.$ The gamma function is simply an extension of the factorial for both integer and noninteger values, where $\\Gamma(x) = (x-1)!$, where $x$ is a positive integer. Using increasing positive integer values, compare the values of $\\Gamma(x)$ and $(x-1)!$ (use the recursive factorial function in Chapter 2, Exercise 2.13). Does the difference in their values increase? Plot this difference. Can you explain the discrepancy?"
   ]
  },
  {
   "cell_type": "code",
   "execution_count": 9,
   "metadata": {
    "collapsed": true
   },
   "outputs": [],
   "source": [
    "def factorial(n):\n",
    "    if n==1:\n",
    "        return 1\n",
    "    else:\n",
    "        return n*factorial(n-1)"
   ]
  },
  {
   "cell_type": "code",
   "execution_count": 38,
   "metadata": {},
   "outputs": [
    {
     "data": {
      "text/plain": [
       "3628800"
      ]
     },
     "execution_count": 38,
     "metadata": {},
     "output_type": "execute_result"
    }
   ],
   "source": [
    "factorial(10)"
   ]
  },
  {
   "cell_type": "code",
   "execution_count": 46,
   "metadata": {},
   "outputs": [],
   "source": [
    "factorial_list = [1, 2, 6, 24, 120, 720, 5040, 40320, 362880]\n",
    "gamma_list = []\n",
    "for i in range(2,11):\n",
    "    j = gamma_user(i)\n",
    "    gamma_list.append(j)"
   ]
  },
  {
   "cell_type": "code",
   "execution_count": 47,
   "metadata": {},
   "outputs": [
    {
     "name": "stdout",
     "output_type": "stream",
     "text": [
      "[3.9999827571302049e-06, 1.7999864961870671e-05, 9.5998880101255679e-05, 0.0005999899020423527, 0.0043199006433525255, 0.035278935731753336, 0.32254763595574332, 3.2657648742679157, 36.285907530167606]\n"
     ]
    }
   ],
   "source": [
    "compare = list(np.array(factorial_list) - np.array(gamma_list))\n",
    "print(compare)"
   ]
  },
  {
   "cell_type": "code",
   "execution_count": null,
   "metadata": {
    "collapsed": true
   },
   "outputs": [],
   "source": []
  }
 ],
 "metadata": {
  "kernelspec": {
   "display_name": "Python 3 (ipykernel)",
   "language": "python",
   "name": "python3"
  },
  "language_info": {
   "codemirror_mode": {
    "name": "ipython",
    "version": 3
   },
   "file_extension": ".py",
   "mimetype": "text/x-python",
   "name": "python",
   "nbconvert_exporter": "python",
   "pygments_lexer": "ipython3",
   "version": "3.9.7"
  },
  "latex_envs": {
   "LaTeX_envs_menu_present": true,
   "autoclose": false,
   "autocomplete": true,
   "bibliofile": "biblio.bib",
   "cite_by": "apalike",
   "current_citInitial": 1,
   "eqLabelWithNumbers": true,
   "eqNumInitial": 1,
   "hotkeys": {
    "equation": "Ctrl-E",
    "itemize": "Ctrl-I"
   },
   "labels_anchors": false,
   "latex_user_defs": false,
   "report_style_numbering": false,
   "user_envs_cfg": false
  },
  "varInspector": {
   "cols": {
    "lenName": 16,
    "lenType": 16,
    "lenVar": 40
   },
   "kernels_config": {
    "python": {
     "delete_cmd_postfix": "",
     "delete_cmd_prefix": "del ",
     "library": "var_list.py",
     "varRefreshCmd": "print(var_dic_list())"
    },
    "r": {
     "delete_cmd_postfix": ") ",
     "delete_cmd_prefix": "rm(",
     "library": "var_list.r",
     "varRefreshCmd": "cat(var_dic_list()) "
    }
   },
   "types_to_exclude": [
    "module",
    "function",
    "builtin_function_or_method",
    "instance",
    "_Feature"
   ],
   "window_display": false
  }
 },
 "nbformat": 4,
 "nbformat_minor": 2
}
