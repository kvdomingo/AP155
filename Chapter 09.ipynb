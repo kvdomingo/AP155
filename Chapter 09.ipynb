{
 "cells": [
  {
   "cell_type": "code",
   "execution_count": 9,
   "metadata": {
    "ExecuteTime": {
     "end_time": "2019-04-12T09:32:50.493807Z",
     "start_time": "2019-04-12T09:32:50.088843Z"
    }
   },
   "outputs": [],
   "source": [
    "import numpy as np\n",
    "import matplotlib.pyplot as mp\n",
    "import scipy.constants as sp\n",
    "import time\n",
    "from sys import path\n",
    "path.append(\"Chapter 9 Resources\")\n",
    "#from banded import *\n",
    "from jupyterthemes import jtplot"
   ]
  },
  {
   "cell_type": "code",
   "execution_count": 10,
   "metadata": {
    "ExecuteTime": {
     "end_time": "2019-04-12T09:32:55.258909Z",
     "start_time": "2019-04-12T09:32:55.251401Z"
    }
   },
   "outputs": [],
   "source": [
    "jtplot.reset()\n",
    "mp.rcParams[\"text.usetex\"] = True\n",
    "mp.rcParams[\"font.family\"] = \"serif\"\n",
    "mp.rcParams[\"figure.figsize\"] = (5*16/9, 5)\n",
    "mp.rcParams[\"figure.dpi\"] = 100"
   ]
  },
  {
   "cell_type": "markdown",
   "metadata": {},
   "source": [
    "<b>Example 9.1</b>\n",
    "\n",
    "(Fig. 9.1) where the box is 1 m long along each side, $V$ = 1 V, and grid spacing $a$ = 1 cm. We have 100 grid points on a side, or 101 if we count the points at the beginning and end. This program calculates the solution and makes a density plot of the result."
   ]
  },
  {
   "cell_type": "code",
   "execution_count": 23,
   "metadata": {},
   "outputs": [
    {
     "data": {
      "image/png": "[encoded data removed]",
      "text/plain": [
       "<matplotlib.figure.Figure at 0x1ab3490ee80>"
      ]
     },
     "metadata": {},
     "output_type": "display_data"
    },
    {
     "name": "stdout",
     "output_type": "stream",
     "text": [
      "Runtime: 18.64 minutes\n"
     ]
    }
   ],
   "source": [
    "M = 100\n",
    "V = 1.0\n",
    "acc = 1e-6\n",
    "a = 1e-2\n",
    "\n",
    "t0 = time.time()\n",
    "\n",
    "phi = np.zeros([ M+1 , M+1 ], float)\n",
    "phi[0,:] = V\n",
    "dphi = np.empty([ M+1 , M+1 ], float)\n",
    "\n",
    "delta = 1.0\n",
    "iterations = 0\n",
    "maxiterations = 1e6\n",
    "while delta > acc and iterations < maxiterations:\n",
    "    for i in range(M+1):\n",
    "        for j in range(M+1):\n",
    "            if i==0 or i==M or j==0 or j==M:\n",
    "                dphi[i,j] = phi[i,j]\n",
    "            else:\n",
    "                dphi[i,j] = (phi[i+1,j] + phi[i-1,j] \\\n",
    "                             + phi[i,j+1] + phi[i,j-1])/4\n",
    "    delta = np.amax(abs(phi-dphi))\n",
    "    phi,dphi = dphi,phi\n",
    "    iterations += 1\n",
    "\n",
    "t1 = time.time()\n",
    "    \n",
    "mp.imshow(phi)\n",
    "mp.gray()\n",
    "mp.colorbar()\n",
    "mp.show()\n",
    "\n",
    "t_tot = t1-t0\n",
    "if t_tot < 60:\n",
    "    print(\"Runtime: %.2f seconds\" %t_tot)\n",
    "else:\n",
    "    print(\"Runtime: %.2f minutes\" %(t_tot/60))"
   ]
  },
  {
   "cell_type": "markdown",
   "metadata": {},
   "source": [
    "<b>Exercise 9.1</b>\n",
    "\n",
    "Write a program, or modify the one from Example 9.1, to solve Poisson’s equation for the system described in Example 9.2. Work in units where $\\epsilon_0 = 1$ and continue the iteration until your solution for the electric potential changes by less than $10^{−6}$ V per step at every grid point."
   ]
  },
  {
   "cell_type": "code",
   "execution_count": 13,
   "metadata": {
    "ExecuteTime": {
     "end_time": "2019-04-12T09:45:04.243340Z",
     "start_time": "2019-04-12T09:40:32.462577Z"
    }
   },
   "outputs": [
    {
     "data": {
      "image/png": "[encoded data removed]",
      "text/plain": [
       "<Figure size 888.889x500 with 2 Axes>"
      ]
     },
     "metadata": {},
     "output_type": "display_data"
    },
    {
     "name": "stdout",
     "output_type": "stream",
     "text": [
      "Runtime: 4.53 minutes\n"
     ]
    }
   ],
   "source": [
    "M = 100\n",
    "V = 1.0\n",
    "acc = 1e-6\n",
    "a = 0.01\n",
    "\n",
    "t0 = time.time()\n",
    "\n",
    "phi = np.zeros([ M+1 , M+1 ], float)\n",
    "phi[0,:] = V\n",
    "dphi = np.zeros([ M+1 , M+1 ], float)\n",
    "\n",
    "def rho(x,y):\n",
    "    if x > 0.6 and x < 0.8 and y > 0.6 and y < 0.8:\n",
    "        return 1\n",
    "    elif x > 0.2 and x < 0.4 and y > 0.2 and y < 0.4:\n",
    "        return -1\n",
    "    else:\n",
    "        return 0\n",
    "\n",
    "delta = 1.0\n",
    "while delta > acc:\n",
    "    for i in range(M+1):\n",
    "        for j in range(M+1):\n",
    "            if i==0 or i==M or j==0 or j==M:\n",
    "                dphi[i,j] = phi[i,j]\n",
    "            else:\n",
    "                dphi[i,j] = (phi[i+1,j] + phi[i-1,j] \\\n",
    "                             + phi[i,j+1] + phi[i,j-1])/4 \\\n",
    "                + a**2/4*rho(i*a,j*a)\n",
    "    delta = np.amax(abs(phi-dphi))\n",
    "    phi,dphi = dphi,phi\n",
    "    \n",
    "t1 = time.time()\n",
    "    \n",
    "mp.imshow(phi, origin=\"lower\")\n",
    "mp.gray()\n",
    "mp.colorbar()\n",
    "mp.show()\n",
    "\n",
    "t_tot = t1-t0\n",
    "if t_tot < 60:\n",
    "    print(\"Runtime: %.2f seconds\" %t_tot)\n",
    "else:\n",
    "    print(\"Runtime: %.2f minutes\" %(t_tot/60))"
   ]
  },
  {
   "cell_type": "markdown",
   "metadata": {},
   "source": [
    "<b>Exercise 9.2:</b>\n",
    "\n",
    "Use the Gauss–Seidel method to solve Laplace’s equation for the two-dimensional problem in Example 9.1 — a square box 1 m on each side, at voltage $V$ = 1 V along the top wall and 0 V along the other three. Use a grid of spacing $a$ = 1 cm, so that there are 100 grid points along each wall, or 101 if you count the points at both ends. Continue the iteration of the method until the value of the electric potential changes by no more than $\\delta$ = 10$^{−6}$ V at any grid point on any step, then make a density plot of the final solution, similar to that shown in Fig. 9.3. Experiment with different values of $\\omega$ to find which value gives the fastest solution. As mentioned above, you should find that a value around 0.9 does well. In general larger values cause the calculation to run faster, but if you choose too large a value the speed drops off and for values above 1 the calculation becomes unstable."
   ]
  },
  {
   "cell_type": "code",
   "execution_count": 12,
   "metadata": {
    "ExecuteTime": {
     "end_time": "2019-04-12T09:39:25.609588Z",
     "start_time": "2019-04-12T09:39:24.700054Z"
    }
   },
   "outputs": [
    {
     "data": {
      "image/png": "[encoded data removed]",
      "text/plain": [
       "<Figure size 888.889x500 with 2 Axes>"
      ]
     },
     "metadata": {},
     "output_type": "display_data"
    },
    {
     "name": "stdout",
     "output_type": "stream",
     "text": [
      "Runtime: 0.69 seconds\n"
     ]
    }
   ],
   "source": [
    "M = 50\n",
    "V = 1.0\n",
    "acc = 1e-6\n",
    "\n",
    "t0 = time.time()\n",
    "\n",
    "phi = np.zeros([ M+1 , M+1 ], float)\n",
    "phi[0,:] = V\n",
    "dphi = np.empty([ M+1 , M+1 ], float)\n",
    "\n",
    "delta = 1.1\n",
    "w = 0.9\n",
    "while delta > acc:\n",
    "    delta = 0\n",
    "    for i in range(1,M):\n",
    "        for j in range(1,M):\n",
    "            if i==0 or i==M or j==0 or j==M:\n",
    "                dphi[i,j] = phi[i,j]\n",
    "            else:\n",
    "                diff = (phi[i+1,j] + phi[i-1,j] \\\n",
    "                       + phi[i,j+1] + phi[i,j-1])/4 - phi[i,j]\n",
    "                phi[i,j] = phi[i,j] + (1+w)*diff\n",
    "                if diff > delta:\n",
    "                    delta = diff\n",
    "    \n",
    "t1 = time.time()\n",
    "\n",
    "mp.imshow(phi)\n",
    "mp.gray()\n",
    "mp.colorbar()\n",
    "mp.show()\n",
    "\n",
    "t_tot = t1-t0\n",
    "if t_tot < 60:\n",
    "    print(\"Runtime: %.2f seconds\" %t_tot)\n",
    "else:\n",
    "    print(\"Runtime: %.2f minutes\" %(t_tot/60))"
   ]
  },
  {
   "cell_type": "markdown",
   "metadata": {},
   "source": [
    "<b>Exercise 9.4: Thermal diffusion in the Earth’s crust</b>\n",
    "\n",
    "A classic example of a diffusion problem with a time-varying boundary condition is the diffusion of heat into the crust of the Earth, as surface temperature varies with the seasons. Suppose the mean daily temperature at a particular point on the surface varies as:\n",
    "\n",
    "\\begin{equation}\n",
    "    T_0(t) = A + B\\sin{\\frac{2\\pi t}{\\tau}}\n",
    "\\end{equation}\n",
    "\n",
    "where $\\tau$ = 365 days, $A$ = 10$^{\\circ}$C and $B$ = 12$^{\\circ}$C. At a depth of 20 m below the surface almost all annual temperature variation is ironed out and the temperature is, to a good approximation, a constant 11$^{\\circ}$C (which is higher than the mean surface temperature of 10$^{\\circ}$C — temperature increases with depth, due to heating from the hot core of the planet). The thermal diffusivity of the Earth’s crust varies somewhat from place to place, but for our purposes we will treat it as constant with value $D$ = 0.1 m$^2$/day.\n",
    "\n",
    "Write a program, or modify one of the ones given in this chapter, to calculate the temperature profile of the crust as a function of depth up to 20 m and time up to 10 years. Start with temperature everywhere equal to 10$^{\\circ}$C, except at the surface and the deepest point, choose values for the number of grid points and the time-step $h$, then run your program for the first nine simulated years, to allow it to settle down into whatever pattern it reaches. Then for the tenth and final year plot four temperature profiles taken at 3-month intervals on a single graph to illustrate how the temperature changes as a function of depth and time."
   ]
  },
  {
   "cell_type": "code",
   "execution_count": 20,
   "metadata": {},
   "outputs": [
    {
     "data": {
      "image/png": "[encoded data removed]",
      "text/plain": [
       "<matplotlib.figure.Figure at 0x1ab3440fd68>"
      ]
     },
     "metadata": {},
     "output_type": "display_data"
    },
    {
     "name": "stdout",
     "output_type": "stream",
     "text": [
      "Runtime: 20.35 seconds\n"
     ]
    }
   ],
   "source": [
    "A = 10\n",
    "B = 12\n",
    "tau = 365\n",
    "D = 0.1\n",
    "\n",
    "def T0(t):\n",
    "    return A + B*np.sin(2*np.pi*t/tau)\n",
    "\n",
    "L = 20\n",
    "N = 100\n",
    "a = L/N\n",
    "h = 0.01\n",
    "\n",
    "t0 = time.time()\n",
    "\n",
    "T = np.zeros(N+1, float)\n",
    "T[1:N] = 10\n",
    "\n",
    "def iterate(T, tmin, tmax):\n",
    "    t = tmin\n",
    "    c = h*D/a**2\n",
    "    while t < tmax:\n",
    "        T[0] = T0(t)\n",
    "        T[N] = 11\n",
    "        T[1:N] = T[1:N] + c*(T[2:N+1]+T[0:N-1]-2*T[1:N])\n",
    "        t += h\n",
    "    return T\n",
    "\n",
    "T9 = iterate(T,0,tau*9)\n",
    "T9_i = T9\n",
    "tmin = tau*9\n",
    "for tmax in [tau*9 + i*(tau//4) for i in range(4)]:\n",
    "    tmax = tmin + tau//4\n",
    "    T9_i = iterate(T9_i,tmin,tmax)\n",
    "    mp.plot(T9_i, label=\"Quarter %i\" %(tmax%tau/(tau//4)))\n",
    "    tmin = tmax\n",
    "\n",
    "t1 = time.time()\n",
    "    \n",
    "mp.legend()\n",
    "mp.xlabel(\"Depth, $x$ [$m$]\")\n",
    "mp.ylabel(\"Temperature, $T$ [$^{\\circ}C$]\")\n",
    "mp.show()\n",
    "\n",
    "t_tot = t1-t0\n",
    "if t_tot < 60:\n",
    "    print(\"Runtime: %.2f seconds\" %t_tot)\n",
    "else:\n",
    "    print(\"Runtime: %.2f minutes\" %(t_tot/60))"
   ]
  },
  {
   "cell_type": "markdown",
   "metadata": {},
   "source": [
    "<b>Exercise 9.5: FTCS solution of the wave equation</b>\n",
    "\n",
    "Consider a piano string of length $L$, initially at rest. At time $t$ = 0 the string is struck by the piano hammer a distance d from the end of the string.\n",
    "\n",
    "The string vibrates as a result of being struck, except at the ends, $x$ = 0 and $x$ = L, where it is held fixed.\n",
    "\n",
    "a) Write a program that uses the FTCS method to solve the complete set of simultaneous first-order equations, Eq. (9.28), for the case $v$ = 100 m/s, with the initial condition that $\\phi (x)$ = 0 everywhere but the velocity $\\psi (x)$ is nonzero, with profile\n",
    "\n",
    "\\begin{equation}\n",
    "    \\psi (x) = C\\frac{x(L-x)}{L^2}e^{-\\frac{(x-d)^2}{2\\sigma^2}}\n",
    "\\end{equation}\n",
    "\n",
    "where $L$ = 1m, $d$ = 10 cm, $C$ = 1 m/s, and $\\sigma$ = 0.3 m. You will also need to choose a value for the time-step $h$. A reasonable choice is $h$ = 10$^{−6}$ s.\n",
    "\n",
    "b) Make an animation of the motion of the piano string using the facilities provided by the visual package, which we studied in Section 3.4. There are various ways you could do this. A simple one would be to just place a small sphere at the location of each grid point on the string. A more sophisticated approach would be to use the curve object in the visual package—see the on-line documentation at www.vpython.org for details. A convenient feature of the curve object is that you can specify its set of $x$ positions and $y$ positions separately as arrays. In this exercise the $x$ positions only need to specified once, since they never change, while the $y$ positions will need to be specified anew each time\n",
    "you take a time-step. Also, since the vertical displacement of the string is much less than its horizontal length, you will probably need to multiply the vertical displacement by a fairly large factor to make it visible on the screen. Allow your animation to run for some time, until numerical instabilities start to appear."
   ]
  },
  {
   "cell_type": "code",
   "execution_count": 38,
   "metadata": {},
   "outputs": [
    {
     "data": {
      "image/png": "[encoded data removed]",
      "text/plain": [
       "<matplotlib.figure.Figure at 0x1a699ce40b8>"
      ]
     },
     "metadata": {},
     "output_type": "display_data"
    },
    {
     "name": "stdout",
     "output_type": "stream",
     "text": [
      "Runtime: 2.97 seconds\n"
     ]
    }
   ],
   "source": [
    "h = 1e-6\n",
    "L = 1\n",
    "v = 100\n",
    "d = 0.1\n",
    "C = 1\n",
    "sigma = 0.3\n",
    "N = 100\n",
    "a = L/N\n",
    "\n",
    "def phi0(x):\n",
    "    return C*x*(L-x)/L/L*np.exp(-(x-d)**2/2/sigma**2)\n",
    "\n",
    "t0 = time.time()\n",
    "\n",
    "psi = np.zeros(N+1, float)\n",
    "x = np.linspace(0,L,N+1)\n",
    "phi = phi0(x)\n",
    "t = 0\n",
    "t_end = 50e-3/100\n",
    "\n",
    "def iterate(psi, phi, dt=50e-3):\n",
    "    iterations = int(dt/h)\n",
    "    for i in range(iterations):\n",
    "        psi[1:N] += h*phi[1:N]\n",
    "        phi[1:N] += h*v**2/a**2*(psi[2:N+1] + psi[0:N-1] \\\n",
    "                                 - 2*psi[1:N])\n",
    "        #t += h\n",
    "    return psi, phi\n",
    "\n",
    "psi,phi = iterate(psi,phi)\n",
    "\n",
    "t1 = time.time()\n",
    "\n",
    "plot(psi)\n",
    "ylabel(\"$\\psi (x)$\")\n",
    "xlabel(\"Iterations\")\n",
    "show()\n",
    "\n",
    "t_tot = t1-t0\n",
    "if t_tot < 60:\n",
    "    print(\"Runtime: %.2f seconds\" %t_tot)\n",
    "else:\n",
    "    print(\"Runtime: %.2f minutes\" %(t_tot/60))"
   ]
  },
  {
   "cell_type": "markdown",
   "metadata": {},
   "source": [
    "<b>Exercise 9.8: The Schrodinger equation and the Crank–Nicolson method</b>\n",
    "\n",
    "Perhaps themost important partial differential equation, at least for physicists, is the Schrodinger equation. This exercise uses the Crank–Nicolson method to solve the full time-dependent Schrodinger equation and hence develop a picture of how a wavefunction evolves over time. The following exercise, Exercise 9.9, solves the same problem again, but using the spectral method.\n",
    "\n",
    "We will look at the Schrodinger equation in one dimension. The techniques for calculating solutions in two or three dimensions are basically the same as for one dimension, but the calculations take much longer on the computer, so in the interests of speed we’ll stick with one dimension. In one dimension the Schrodinger equation for a particle of mass $M$ with no potential energy reads\n",
    "\n",
    "\\begin{equation}\n",
    "    -\\frac{\\hbar^2}{2M}\\frac{\\partial^2\\psi}{\\partial x^2} = i\\hbar\\frac{\\partial\\psi}{\\partial t}\n",
    "\\end{equation}\n",
    "\n",
    "For simplicity, let’s put our particle in a box with impenetrable walls, so that we only have to solve the equation in a finite-sized space. The box forces the wavefunction $\\psi$ to be zero at the walls, which we’ll put at $x$ = 0 and $x$ = L.\n",
    "\n",
    "a) Write a program to perform a single step of the Crank–Nicolson method for this electron, calculating the vector $y(t)$ of values of the wavefunction, given the initial wavefunction above and using $N$ = 1000 spatial slices with $a = L/N$. Your program will have to perform the following steps. First, given the vector $y(0)$ at $t$ = 0, you will have to multiply by the matrix $B$ to get a vector $v = B\\psi$. Because of the tridiagonal form of $B$, this is fairly simple. The $i$th component of $v$ is given by\n",
    "\n",
    "\\begin{equation}\n",
    "    v_i = b_1\\psi_i + b_2(\\psi_{i+1} + \\psi_{i-1})\n",
    "\\end{equation}\n",
    "\n",
    "You will also have to choose a value for the time-step $h$. A reasonable choice is $h$ = 10$^{−18}$ s.\n",
    "\n",
    "Second you will have to solve the linear system $Ax = v$ for $x$, which gives you the new value of $y$. You could do this using a standard linear equation solver like the function solve in numpy.linalg, but since the matrix $A$ is tridiagonal a better approach would be to use the fast solver for banded matrices given in Appendix E, which can be imported from the file banded.py (which you can find in the on-line resources). Note that although the wavefunction of a particle in principle has a complex value, in this case the wavefunction is always real—all the coefficients in the equations above are real numbers so if, as here, the wavefunction starts off real, then it remains real. Thus you do not need to use a complex array to represent the vector $y$. A real one will do the job.\n",
    "\n",
    "Third, once you have the code in place to perform a single step of the calculation, extend your program to perform repeated steps and hence solve for $\\psi$ at a sequence of times a separation $h$ apart. Note that the matrix $A$ is independent of time, so it doesn’t change from one step to another. You can set up the matrix just once and then keep on reusing it for every step."
   ]
  },
  {
   "cell_type": "code",
   "execution_count": 39,
   "metadata": {},
   "outputs": [
    {
     "name": "stderr",
     "output_type": "stream",
     "text": [
      "C:\\ProgramData\\Anaconda3\\lib\\site-packages\\numpy\\core\\numeric.py:531: ComplexWarning: Casting complex values to real discards the imaginary part\n",
      "  return array(a, dtype, copy=False, order=order)\n"
     ]
    },
    {
     "name": "stdout",
     "output_type": "stream",
     "text": [
      "Runtime: 2.34 seconds\n"
     ]
    },
    {
     "data": {
      "image/png": "[encoded data removed]",
      "text/plain": [
       "<matplotlib.figure.Figure at 0x1a699e5cb38>"
      ]
     },
     "metadata": {},
     "output_type": "display_data"
    }
   ],
   "source": [
    "h = 1e-18\n",
    "L = 1e-8\n",
    "N = 1000\n",
    "a = L/N\n",
    "M = sp.electron_mass\n",
    "\n",
    "t0 = time.time()\n",
    "\n",
    "a1 = 1 + h*sp.hbar/2/M/a/a*1j\n",
    "a2 = -h*sp.hbar/4/M/a/a*1j\n",
    "b1 = 1 - h*sp.hbar/2/M/a/a*1j\n",
    "b2 = h*sp.hbar/4/M/a/a*1j\n",
    "\n",
    "psi = np.zeros(N+1, complex)\n",
    "\n",
    "def psi0(x):\n",
    "    x0 = L/2\n",
    "    sigma = 1e-10\n",
    "    k = 5e10\n",
    "    return np.exp(-(x-x0)**2/2/sigma**2)*np.exp(1j*k*x)\n",
    "\n",
    "x = np.linspace(0,L,N+1)\n",
    "psi[:] = psi0(x)\n",
    "psi[[0,N]] = 0\n",
    "\n",
    "A = np.empty((3,N), complex)\n",
    "A[0,:] = a2\n",
    "A[1,:] = a1\n",
    "A[2,:] = a2\n",
    "\n",
    "for i in range(100):\n",
    "    v = b1*psi[1:N] + b2*(psi[2:N+1] + psi[0:N-1])\n",
    "    psi[1:N] = banded(A,v,1,1)\n",
    "    \n",
    "t1 = time.time()\n",
    "    \n",
    "mp.plot(psi)\n",
    "\n",
    "t_tot = t1-t0\n",
    "if t_tot < 60:\n",
    "    print(\"Runtime: %.2f seconds\" %t_tot)\n",
    "else:\n",
    "    print(\"Runtime: %.2f minutes\" %(t_tot/60))"
   ]
  },
  {
   "cell_type": "code",
   "execution_count": null,
   "metadata": {
    "collapsed": true
   },
   "outputs": [],
   "source": []
  }
 ],
 "metadata": {
  "kernelspec": {
   "display_name": "Python 3",
   "language": "python",
   "name": "python3"
  },
  "language_info": {
   "codemirror_mode": {
    "name": "ipython",
    "version": 3
   },
   "file_extension": ".py",
   "mimetype": "text/x-python",
   "name": "python",
   "nbconvert_exporter": "python",
   "pygments_lexer": "ipython3",
   "version": "3.6.8"
  },
  "latex_envs": {
   "LaTeX_envs_menu_present": true,
   "autoclose": true,
   "autocomplete": true,
   "bibliofile": "biblio.bib",
   "cite_by": "apalike",
   "current_citInitial": 1,
   "eqLabelWithNumbers": true,
   "eqNumInitial": 1,
   "hotkeys": {
    "equation": "Ctrl-E",
    "itemize": "Ctrl-I"
   },
   "labels_anchors": false,
   "latex_user_defs": false,
   "report_style_numbering": false,
   "user_envs_cfg": false
  },
  "varInspector": {
   "cols": {
    "lenName": 16,
    "lenType": 16,
    "lenVar": 40
   },
   "kernels_config": {
    "python": {
     "delete_cmd_postfix": "",
     "delete_cmd_prefix": "del ",
     "library": "var_list.py",
     "varRefreshCmd": "print(var_dic_list())"
    },
    "r": {
     "delete_cmd_postfix": ") ",
     "delete_cmd_prefix": "rm(",
     "library": "var_list.r",
     "varRefreshCmd": "cat(var_dic_list()) "
    }
   },
   "types_to_exclude": [
    "module",
    "function",
    "builtin_function_or_method",
    "instance",
    "_Feature"
   ],
   "window_display": false
  }
 },
 "nbformat": 4,
 "nbformat_minor": 2
}
