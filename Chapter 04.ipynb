{
 "cells": [
  {
   "cell_type": "markdown",
   "metadata": {},
   "source": [
    "<h1>App Physics 155 (lab)</h1>\n",
    "<h2>Feb. 7, 2018</h2><br />\n",
    "Kenneth V. Domingo<br />\n",
    "2015-03116"
   ]
  },
  {
   "cell_type": "code",
   "execution_count": 1,
   "metadata": {
    "collapsed": true
   },
   "outputs": [],
   "source": [
    "import numpy as np\n",
    "from decimal import Decimal as dec\n",
    "from decimal import getcontext"
   ]
  },
  {
   "cell_type": "markdown",
   "metadata": {},
   "source": [
    "<b>Exercise 4.2: Quadratic equations</b><br /><br />\n",
    "a) Write a program that takes as input three numbers, $a$, $b$, and $c$, and prints out\n",
    "the two solutions to the quadratic equation $ax^2 + bx + c = 0$ using the standard\n",
    "formula\n",
    "\n",
    "\\begin{equation}\n",
    "    x = \\frac{-b \\pm \\sqrt{b^2 - 4ac}}{2a}\n",
    "\\end{equation}\n",
    "\n",
    "Use your program to compute the solutions of $0.001x^2 + 1000x + 0.001 = 0$."
   ]
  },
  {
   "cell_type": "code",
   "execution_count": 19,
   "metadata": {
    "collapsed": true
   },
   "outputs": [],
   "source": [
    "def quadratic(a,b,c):\n",
    "    x1 = (-b + np.sqrt(b**2 - 4*a*c))/(2*a)\n",
    "    x2 = -(b + np.sqrt(b**2 - 4*a*c))/(2*a)\n",
    "    print(\"x1 = \", x1)\n",
    "    print(\"x2 = \", x2)\n",
    "    print(\"Solution 1 = \", a*x1**2 + b*x1 + c)\n",
    "    print(\"Solution 2 = \", a*x2**2 + b*x2 + c)"
   ]
  },
  {
   "cell_type": "code",
   "execution_count": 20,
   "metadata": {},
   "outputs": [
    {
     "name": "stdout",
     "output_type": "stream",
     "text": [
      "x1 =  -9.99989424599e-07\n",
      "x2 =  -999999.999999\n",
      "Solution 1 =  1.05754016655e-08\n",
      "Solution 2 =  7.24792480469e-08\n"
     ]
    }
   ],
   "source": [
    "quadratic(.001, 1000, .001)"
   ]
  },
  {
   "cell_type": "markdown",
   "metadata": {},
   "source": [
    "b) There is another way to write the solutions to a quadratic equation. Multiplying\n",
    "top and bottom of the solution above by $−b \\mp \\sqrt{b^2 − 4ac}$, show that the solutions\n",
    "can also be written as\n",
    "\n",
    "\\begin{equation}\n",
    "    x = \\frac{2c}{-b \\mp \\sqrt{b^2 - 4ac}}\n",
    "\\end{equation}\n",
    "\n",
    "Add further lines to your program to print these values in addition to the earlier\n",
    "ones and again use the program to solve $0.001x^2 + 1000x + 0.001 = 0$. What do\n",
    "you see? How do you explain it?"
   ]
  },
  {
   "cell_type": "code",
   "execution_count": null,
   "metadata": {
    "collapsed": true
   },
   "outputs": [],
   "source": [
    "def quadratic_acc(a,b,c):\n",
    "    x1 = (2*c)/(-b - np.sqrt(b**2 - 4*a*c))\n",
    "    x2 = (2*c)/(-b + np.sqrt(b**2 - 4*a*c))\n",
    "    print(\"x1 = \", x1)\n",
    "    print(\"x2 = \", x2)\n",
    "    print(\"Solution 1 = \", a*x1**2 + b*x1 + c)\n",
    "    print(\"Solution 2 = \", a*x2**2 + b*x2 + c)"
   ]
  },
  {
   "cell_type": "code",
   "execution_count": null,
   "metadata": {
    "collapsed": true
   },
   "outputs": [],
   "source": [
    "quadratic_acc(.001,1000,.001)"
   ]
  },
  {
   "cell_type": "markdown",
   "metadata": {},
   "source": [
    "(c) Using what you have learned, write a new program that calculates both roots of\n",
    "a quadratic equation accurately in all cases."
   ]
  },
  {
   "cell_type": "code",
   "execution_count": 16,
   "metadata": {
    "collapsed": true
   },
   "outputs": [],
   "source": [
    "getcontext().prec = 16\n",
    "def quadratic_prec1(a,b,c):\n",
    "    x1 = (dec(-b) + np.sqrt(dec(b)**dec(2) - dec(4)*dec(a)*dec(c)))/(dec(2)*dec(a))\n",
    "    x2 = (dec(-b) - np.sqrt(dec(b)**dec(2) - dec(4)*dec(a)*dec(c)))/(dec(2)*dec(a))\n",
    "    sol1 = dec(a)*dec(x1)**dec(2) + dec(b)*dec(x1) + dec(c)\n",
    "    sol2 = dec(a)*dec(x2)**dec(2) + dec(b)*dec(x2) + dec(c)\n",
    "    print(\"By equation (1): \")\n",
    "    print(\"x1 = \", x1)\n",
    "    print(\"x2 = \", x2)\n",
    "    print(\"Solution 1 = \", sol1)\n",
    "    print(\"Solution 2 = \", sol2)\n",
    "    \n",
    "def quadratic_prec2(a,b,c):\n",
    "    x1 = (dec(2)*dec(c))/(dec(-b) - np.sqrt(dec(b)**dec(2) - dec(4)*dec(a)*dec(c)))\n",
    "    x2 = (dec(2)*dec(c))/(dec(-b) + np.sqrt(dec(b)**dec(2) - dec(4)*dec(a)*dec(c)))\n",
    "    sol1 = dec(a)*dec(x1)**dec(2) + dec(b)*dec(x1) + dec(c)\n",
    "    sol2 = dec(a)*dec(x2)**dec(2) + dec(b)*dec(x2) + dec(c)\n",
    "    print(\"\\nBy equation (2): \")\n",
    "    print(\"x1 = \", x1)\n",
    "    print(\"x2 = \", x2)\n",
    "    print(\"Solution 1 = \", sol1)\n",
    "    print(\"Solution 2 = \", sol2)"
   ]
  },
  {
   "cell_type": "code",
   "execution_count": 17,
   "metadata": {},
   "outputs": [
    {
     "name": "stdout",
     "output_type": "stream",
     "text": [
      "By equation (1): \n",
      "x1 =  -0.000001\n",
      "x2 =  -999999.999999\n",
      "Solution 1 =  1.000020816681712E-15\n",
      "Solution 2 =  2.081668171172169E-20\n",
      "\n",
      "By equation (2): \n",
      "x1 =  -0.000001000000000001000\n",
      "x2 =  -1000000.00000\n",
      "Solution 1 =  2.081668171172169E-20\n",
      "Solution 2 =  0.001000000000000000\n"
     ]
    }
   ],
   "source": [
    "quadratic_prec1(.001,1000,.001)\n",
    "quadratic_prec2(.001,1000,.001)"
   ]
  },
  {
   "cell_type": "markdown",
   "metadata": {},
   "source": [
    "Equation (2) yields more accurate roots for the quadratic equation, where\n",
    "\n",
    "\\begin{equation}\n",
    "    x_{+} \\approx -0.000001\n",
    "\\end{equation}\n",
    "\\begin{equation}\n",
    "    x_{-} \\approx -999999.999 \\approx -1000000\n",
    "\\end{equation}\n",
    "\n",
    "Plugging these into the original quadratic equation, we get\n",
    "\n",
    "\\begin{equation}\n",
    "    x_{-}: 2.08 \\times 10^{-20} \\approx 0\n",
    "\\end{equation}\n",
    "\\begin{equation}\n",
    "    x_{+}: 1.000 \\times 10^{-15} \\approx 0\n",
    "\\end{equation}"
   ]
  },
  {
   "cell_type": "markdown",
   "metadata": {
    "collapsed": true
   },
   "source": [
    "<b>Exercise 4.3: Calculating derivatives</b><br /><br />\n",
    "Suppose we have a function $f(x)$ and we want to calculate its derivative at a point $x$. We can do that with pencil and paper if we know the mathematical form of the function, or we can do it on the computer by making use of the definition of the derivative:\n",
    "\n",
    "\\begin{equation}\n",
    "    \\frac{df}{dx} = \\lim_{\\delta \\to 0} \\frac{f(x+\\delta)-f(x)}{\\delta}\n",
    "\\end{equation}\n",
    "\n",
    "On the computer we can’t actually take the limit as $\\delta$ goes to zero, but we can get a reasonable approximation just by making $\\delta$ small.\n",
    "\n",
    "a) Write a program that defines a function $f(x)$ returning the value $x(x − 1)$, then calculates the derivative of the function at the point $x = 1$ using the formula above with $\\delta = 10^{−2}$. Calculate the true value of the same derivative analytically and compare with the answer your program gives. The two will not agree perfectly. Why not?"
   ]
  },
  {
   "cell_type": "markdown",
   "metadata": {},
   "source": [
    "b) Repeat the calculation for $\\delta = 10^{−4}, 10^{−6}, 10^{−8}, 10^{−10}, 10^{−12},$ and $10^{−14}$. You should see that the accuracy of the calculation initially gets better as $\\delta$ gets smaller, but then gets worse again. Why is this?"
   ]
  },
  {
   "cell_type": "code",
   "execution_count": 12,
   "metadata": {},
   "outputs": [
    {
     "name": "stdout",
     "output_type": "stream",
     "text": [
      "Delta = 1e- 4 = 1.0000999999998899\n",
      "Delta = 1e- 6 = 1.0000009999177333\n",
      "Delta = 1e- 8 = 1.0000000039225287\n",
      "Delta = 1e- 10 = 1.000000082840371\n",
      "Delta = 1e- 12 = 1.0000889005833413\n",
      "Delta = 1e- 14 = 0.9992007221626509\n"
     ]
    }
   ],
   "source": [
    "def f(x):\n",
    "    return x*(x-1)\n",
    "\n",
    "def df_x(x, delta):\n",
    "    num = f(x+delta)-f(x)\n",
    "    lim = num/delta\n",
    "    return lim\n",
    "\n",
    "for i in range(4,15,2):\n",
    "    print(\"Delta = 1e-\", i, \"=\", df_x(1, 10**(-i)))"
   ]
  },
  {
   "cell_type": "markdown",
   "metadata": {},
   "source": [
    "<b>Exercise 4.4</b>: Calculating integrals\n",
    "\n",
    "Suppose we want to calculate the value of the integral\n",
    "\n",
    "\\begin{equation}\n",
    "    I = \\int_{-1}^1 \\sqrt{1-x^2} \\text{ d}x\n",
    "\\end{equation}\n",
    "\n",
    "The integrand looks like a semicircle of radius 1 and hence the value of the integral—the area under the curve—must be equal to $\\frac{1}{2}\\pi$ = 1.57079632679...\n",
    "\n",
    "Alternatively, we can evaluate the integral on the computer by dividing the domain of integration into a large number $N$ of slices of width $h = \\frac{2}{N}$ each and then using the Riemann definition of the integral:\n",
    "\n",
    "\\begin{equation}\n",
    "    I = \\lim_{N \\rightarrow \\infty} \\sum_{k=1}^N hy_k\n",
    "\\end{equation}\n",
    "\n",
    "where\n",
    "\n",
    "\\begin{equation}\n",
    "    y_k = \\sqrt{1-x_k^2}\n",
    "\\end{equation}\n",
    "\\begin{equation}\n",
    "    x_k = -1 + hk\n",
    "\\end{equation}\n",
    "\n",
    "We cannot in practice take the limit $N \\rightarrow \\infty$, but we can make a reasonable approximation by just making $N$ large.\n",
    "\n",
    "a) Write a program to evaluate the integral above with $N = 100$ and compare the result with the exact value. The two will not agree very well, because $N = 100$ is not a sufficiently large number of slices.\n",
    "\n",
    "b) Increase the value of $N$ to get a more accurate value for the integral. If we require that the program runs in about one second or less, how accurate a value can you get?"
   ]
  },
  {
   "cell_type": "code",
   "execution_count": 26,
   "metadata": {},
   "outputs": [
    {
     "name": "stdout",
     "output_type": "stream",
     "text": [
      "Slices = 100000\n",
      "Integral = 1.5707962742\n",
      "Actual value = 1.5707963267948966\n",
      "Error = 3.34807723888e-06 %\n"
     ]
    }
   ],
   "source": [
    "N = 100000\n",
    "h = 2/N\n",
    "I = 0\n",
    "for k in range(1, N+1):\n",
    "    x = h*k - 1\n",
    "    y = np.sqrt(1-x*x)\n",
    "    I += h*y\n",
    "print(\"Slices =\", N)\n",
    "print(\"Integral =\", I)\n",
    "print(\"Actual value =\", np.pi/2)\n",
    "print(\"Error =\", abs((np.pi/2 - I))/(np.pi/2) * 100, \"%\")"
   ]
  },
  {
   "cell_type": "code",
   "execution_count": null,
   "metadata": {
    "collapsed": true
   },
   "outputs": [],
   "source": []
  }
 ],
 "metadata": {
  "kernelspec": {
   "display_name": "Python 3 (ipykernel)",
   "language": "python",
   "name": "python3"
  },
  "language_info": {
   "codemirror_mode": {
    "name": "ipython",
    "version": 3
   },
   "file_extension": ".py",
   "mimetype": "text/x-python",
   "name": "python",
   "nbconvert_exporter": "python",
   "pygments_lexer": "ipython3",
   "version": "3.9.7"
  },
  "latex_envs": {
   "LaTeX_envs_menu_present": true,
   "autoclose": false,
   "autocomplete": true,
   "bibliofile": "biblio.bib",
   "cite_by": "apalike",
   "current_citInitial": 1,
   "eqLabelWithNumbers": true,
   "eqNumInitial": 1,
   "hotkeys": {
    "equation": "Ctrl-E",
    "itemize": "Ctrl-I"
   },
   "labels_anchors": false,
   "latex_user_defs": false,
   "report_style_numbering": false,
   "user_envs_cfg": false
  },
  "varInspector": {
   "cols": {
    "lenName": 16,
    "lenType": 16,
    "lenVar": 40
   },
   "kernels_config": {
    "python": {
     "delete_cmd_postfix": "",
     "delete_cmd_prefix": "del ",
     "library": "var_list.py",
     "varRefreshCmd": "print(var_dic_list())"
    },
    "r": {
     "delete_cmd_postfix": ") ",
     "delete_cmd_prefix": "rm(",
     "library": "var_list.r",
     "varRefreshCmd": "cat(var_dic_list()) "
    }
   },
   "types_to_exclude": [
    "module",
    "function",
    "builtin_function_or_method",
    "instance",
    "_Feature"
   ],
   "window_display": false
  }
 },
 "nbformat": 4,
 "nbformat_minor": 2
}
