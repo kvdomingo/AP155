{
 "cells": [
  {
   "cell_type": "markdown",
   "metadata": {},
   "source": [
    "# App Physics 155 (lab)\n",
    "## Feb. 21, 2018"
   ]
  },
  {
   "cell_type": "code",
   "execution_count": 108,
   "metadata": {
    "collapsed": true
   },
   "outputs": [],
   "source": [
    "import numpy as np\n",
    "import matplotlib.pyplot as plt\n",
    "import scipy.constants as sp"
   ]
  },
  {
   "cell_type": "markdown",
   "metadata": {},
   "source": [
    "<b>Example 5.1:</b> Integrating a function\n",
    "\n",
    "Let us use the trapezoidal rule to calculate the integral of $x^4 − 2x + 1$ from $x = 0$ to $x = 2$. This is actually an integral we can do by hand, which means we don’t really need to do it using the computer in this case, but it’s a good\n",
    "first example because we can check easily if our program is working and how accurate an answer it gives. Here is a program to do the integration using the trapezoidal rule with $N = 10$ slices:"
   ]
  },
  {
   "cell_type": "code",
   "execution_count": 3,
   "metadata": {},
   "outputs": [
    {
     "name": "stdout",
     "output_type": "stream",
     "text": [
      "4.50656\n",
      "Error: 2.4218181818181814 %\n",
      "\n",
      "4.401066656\n",
      "Error: 0.024242181818179272 %\n",
      "\n",
      "4.400010666665601\n",
      "Error: 0.0002424242181947084 %\n",
      "\n"
     ]
    }
   ],
   "source": [
    "def f(x):\n",
    "    return x**4 - 2*x + 1\n",
    "\n",
    "N = 10\n",
    "trap = []\n",
    "trap_error = []\n",
    "while N <= 1000:\n",
    "    a = 0.0\n",
    "    b = 2.0\n",
    "    h = (b-a)/N\n",
    "\n",
    "    s = 0.5*(f(a)+f(b))\n",
    "    for k in range(1,N):\n",
    "        s += f(a + k*h)\n",
    "    sumasum = h*s\n",
    "    print(sumasum)\n",
    "    trap.append(sumasum)\n",
    "    \n",
    "    dev = abs(4.4-sumasum)/4.4 * 100\n",
    "    print(\"Error:\",dev,\"%\\n\")\n",
    "    trap_error.append(dev)\n",
    "    \n",
    "    N *= 10"
   ]
  },
  {
   "cell_type": "markdown",
   "metadata": {},
   "source": [
    "<b>Exercise 5.2:</b> \n",
    "\n",
    "a) Write a program to calculate an approximate value for the integral $\\int_0^2 x^4 - 2x + 1 \\text{ d}x$ from Example 5.1, but using Simpson’s rule with 10 slices instead of the trapezoidal rule. You may wish to base your program on the trapezoidal rule program on page 142.\n",
    "\n",
    "By manual integration:\n",
    "\n",
    "\\begin{equation}\n",
    "    \\frac{x^5}{5} - x^2 + x \\text{ }\\Big |_0^2 = 4.4\n",
    "\\end{equation}\n",
    "\n",
    "b) Run the program and compare your result to the known correct value of 4.4. What is the fractional error on your calculation?\n",
    "\n",
    "c) Modify the program to use a hundred slices instead, then a thousand. Note the improvement in the result. How do the results compare with those from Example 5.1 for the trapezoidal rule with the same numbers of slices?"
   ]
  },
  {
   "cell_type": "code",
   "execution_count": 4,
   "metadata": {},
   "outputs": [
    {
     "name": "stdout",
     "output_type": "stream",
     "text": [
      "10 slices: 4.400426666666667\n",
      "Error: 0.009696969696972665 %\n",
      "\n",
      "100 slices: 4.400000042666667\n",
      "Error: 9.69696969186564e-07 %\n",
      "\n",
      "1000 slices: 4.400000000004266\n",
      "Error: 9.695274885953866e-11 %\n",
      "\n"
     ]
    }
   ],
   "source": [
    "def f(x):\n",
    "    return x**4 - 2*x + 1\n",
    "\n",
    "simp = []\n",
    "simp_error = []\n",
    "N = 10\n",
    "while N <= 1000:\n",
    "    a = 0.0\n",
    "    b = 2.0\n",
    "    h = (b-a)/N\n",
    "\n",
    "    s = f(a)+f(b)\n",
    "    for k in range(1,N//2 + 1):\n",
    "        s += f(a+(2*k - 1)*h) * 4\n",
    "    for k in range(1,N//2):\n",
    "        s += f(a + 2*k*h) * 2\n",
    "    suma = 1/3*h*s\n",
    "    print(N,\"slices:\",suma)\n",
    "    simp.append(suma)\n",
    "    \n",
    "    dev = abs(4.4-suma)/4.4 * 100\n",
    "    print(\"Error:\",dev,\"%\\n\")\n",
    "    simp_error.append(dev)\n",
    "    \n",
    "    N *= 10"
   ]
  },
  {
   "cell_type": "code",
   "execution_count": 5,
   "metadata": {},
   "outputs": [
    {
     "name": "stdout",
     "output_type": "stream",
     "text": [
      "Trapezoidal              Error %                  Simpson                  Error %\n",
      "\n",
      "4.50656                  2.4218181818181814       4.400426666666667        0.009696969696972665\n",
      "4.401066656              0.024242181818179272     4.400000042666667        9.69696969186564e-07\n",
      "4.400010666665601        0.0002424242181947084    4.400000000004266        9.695274885953866e-11\n"
     ]
    }
   ],
   "source": [
    "fmt = '{:<25}{:<25}{:<25}{}'\n",
    "\n",
    "print(fmt.format('Trapezoidal', 'Error %', 'Simpson', 'Error %\\n'))\n",
    "for i, (trap,trap_error,simp,simp_error) in enumerate(zip(trap,trap_error,simp,simp_error)):\n",
    "    print(fmt.format(trap,trap_error,simp,simp_error))"
   ]
  },
  {
   "cell_type": "markdown",
   "metadata": {},
   "source": [
    "<b>Exercise 5.3:</b> Consider the integral\n",
    "\n",
    "\\begin{equation}\n",
    "    E(x) = \\int_0^x e^{-t^2} \\text{ d}t\n",
    "\\end{equation}\n",
    "\n",
    "a) Write a program to calculate $E(x)$ for values of $x$ from 0 to 3 in steps of 0.1. Choose for yourself what method you will use for performing the integral and a suitable number of slices."
   ]
  },
  {
   "cell_type": "code",
   "execution_count": 6,
   "metadata": {
    "scrolled": true
   },
   "outputs": [
    {
     "name": "stdout",
     "output_type": "stream",
     "text": [
      "for x = 0.0 \t 0.0\n",
      "for x = 0.1 \t 0.0996676643559\n",
      "for x = 0.2 \t 0.197365032922\n",
      "for x = 0.3 \t 0.291237896588\n",
      "for x = 0.4 \t 0.379652891756\n",
      "for x = 0.5 \t 0.461281141952\n",
      "for x = 0.6 \t 0.535153802544\n",
      "for x = 0.7 \t 0.600686131928\n",
      "for x = 0.8 \t 0.657670518992\n",
      "for x = 0.9 \t 0.706242322104\n",
      "for x = 1.0 \t 0.746824948254\n",
      "for x = 1.1 \t 0.780062040963\n",
      "for x = 1.2 \t 0.806744889953\n",
      "for x = 1.3 \t 0.827742364598\n",
      "for x = 1.4 \t 0.84393909419\n",
      "for x = 1.5 \t 0.856185631319\n",
      "for x = 1.6 \t 0.865262296608\n",
      "for x = 1.7 \t 0.871856605878\n",
      "for x = 1.8 \t 0.876552815634\n",
      "for x = 1.9 \t 0.879831270173\n",
      "for x = 2.0 \t 0.882074876854\n",
      "for x = 2.1 \t 0.883580088675\n",
      "for x = 2.2 \t 0.884570112043\n",
      "for x = 2.3 \t 0.885208553268\n",
      "for x = 2.4 \t 0.885612256974\n",
      "for x = 2.5 \t 0.885862589963\n",
      "for x = 2.6 \t 0.886014834875\n",
      "for x = 2.7 \t 0.886105658932\n",
      "for x = 2.8 \t 0.886158816317\n",
      "for x = 2.9 \t 0.886189344963\n",
      "for x = 3.0 \t 0.886206552246\n"
     ]
    }
   ],
   "source": [
    "def E(t):\n",
    "    return np.exp(-t**2)\n",
    "\n",
    "N = 10\n",
    "a = 0.0\n",
    "\n",
    "for i in range (0,31):\n",
    "    b = i/10\n",
    "    h = (b-a)/N\n",
    "    s = E(a)+E(b)\n",
    "    for k in range(1,N//2 + 1):\n",
    "        s += E(a+(2*k - 1)*h) * 4\n",
    "    for k in range(1,N//2):\n",
    "        s += E(a + 2*k*h) * 2\n",
    "    suma = 1/3*h*s\n",
    "    print(\"for x =\",b,\"\\t\",suma)"
   ]
  },
  {
   "cell_type": "markdown",
   "metadata": {},
   "source": [
    "b) When you are convinced your program is working, extend it further to make a graph of $E(x)$ as a function of $x$. If you want to remind yourself of how to make a graph, you should consult Section 3.1, starting on page 88."
   ]
  },
  {
   "cell_type": "code",
   "execution_count": 10,
   "metadata": {},
   "outputs": [
    {
     "data": {
      "image/png": "[encoded data removed]",
      "text/plain": [
       "<matplotlib.figure.Figure at 0x28442ee1898>"
      ]
     },
     "metadata": {},
     "output_type": "display_data"
    }
   ],
   "source": [
    "def EE(b):\n",
    "    h = (b-a)/N\n",
    "    s = E(a)+E(b)\n",
    "    for k in range(1,N//2 + 1):\n",
    "        s += E(a+(2*k - 1)*h) * 4\n",
    "    for k in range(1,N//2):\n",
    "        s += E(a + 2*k*h) * 2\n",
    "    suma = 1/3*h*s\n",
    "    return suma\n",
    "    \n",
    "x = np.linspace(0,3)\n",
    "mp.plot(x, EE(x))\n",
    "mp.xlabel(\"$x$\")\n",
    "mp.ylabel(\"E(x)\")\n",
    "mp.title(\"Graph of $E(x)$\")\n",
    "mp.show()"
   ]
  },
  {
   "cell_type": "markdown",
   "metadata": {},
   "source": [
    "<b>Exercise 5.7: </b>Consider the integral\n",
    "\n",
    "\\begin{equation}\n",
    "    I = \\int_0^1 \\sin^2 \\sqrt{100x} \\text{ d}x\n",
    "\\end{equation}\n",
    "\n",
    "a) Write a program that uses the adaptive trapezoidal rule method of Section 5.3 and Eq. (5.34) to calculate the value of this integral to an approximate accuracy of $\\epsilon = 10^{−6}$ (i.e., correct to six digits after the decimal point). Start with one single integration slice and work up from there to two, four, eight, and so forth. Have your program print out the number of slices, its estimate of the integral, and its estimate of the error on the integral, for each value of the number of slices $N$, until the target accuracy is reached. (Hint: You should find the result is around $I = 0.45$.)\n",
    "\n",
    "b) Now modify your program to evaluate the same integral using the Romberg integration technique described in this section. Have your program print out a triangular table of values, as on page 161, of all the Romberg estimates of the integral.\n",
    "Calculate the error on your estimates using Eq. (5.49) and again continue the calculation until you reach an accuracy of $\\epsilon = 10^{−6}$. You should find that the Romberg method reaches the required accuracy considerably faster than the\n",
    "trapezoidal rule alone."
   ]
  },
  {
   "cell_type": "code",
   "execution_count": 12,
   "metadata": {},
   "outputs": [
    {
     "data": {
      "text/plain": [
       "0.45737152034718009"
      ]
     },
     "execution_count": 12,
     "metadata": {},
     "output_type": "execute_result"
    }
   ],
   "source": [
    "def f(x):\n",
    "    return (np.sin(np.sqrt(100*x)))**2\n",
    "\n",
    "def I(i):\n",
    "    N = 100\n",
    "    a = 0.0\n",
    "    b = 1.0\n",
    "    h = (b-a)/N\n",
    "    sout = 0\n",
    "    s_in = 0\n",
    "\n",
    "    for k in range(1,N,2):\n",
    "        sout += f(a + k*h)\n",
    "    sout *= h\n",
    "    if i == 0:\n",
    "        for k in range(1,N):\n",
    "            s_in += f(a + k*h)\n",
    "            s_in += 0.5*(f(a)+f(b))\n",
    "            s_in *= 0.5*h\n",
    "    else:\n",
    "        s_in = 0.5*I(i-1)\n",
    "    suma = s_in + sout\n",
    "    return suma\n",
    "    \n",
    "I(100)"
   ]
  },
  {
   "cell_type": "code",
   "execution_count": 14,
   "metadata": {},
   "outputs": [
    {
     "name": "stdout",
     "output_type": "stream",
     "text": [
      "[0.40818651707222187]\n",
      "[0.43818325386685419, 0.44418260122578068]\n",
      "[0.45100552289757917, 0.45237010723193888, 0.4517597740170336]\n",
      "[0.45459892283227127, 0.4551667525953188, 0.45481029929901784, 0.45520977790860156]\n",
      "[0.45552243644249402, 0.45558496814927252, 0.45557676077250714, 0.45559140223471795, 0.45557974311287092]\n",
      "[0.45575490226460796, 0.45578993409495538, 0.45576857672473231, 0.45579308741719665, 0.45576932309030516, 0.45579328418322834]\n",
      "[0.45581311816443826, 0.45581708496068024, 0.45581654262913418, 0.45581750266630677, 0.45581672926689448, 0.455817526486062, 0.45581674083784313]\n",
      "[0.45582767835827065, 0.45582986586235613, 0.45582853484026081, 0.45583006249161268, 0.45582858150256089, 0.45583007474510079, 0.45582858439546686, 0.45583007551093901]\n",
      "[0.45583131879546451, 0.45583156745236963, 0.45583153293882883, 0.45583159363067755, 0.45583154460458203, 0.45583159512447174, 0.45583154532781905, 0.45583159521726269, 0.45583154537299858]\n",
      "[0.45583222892906128, 0.4558323656402738, 0.45583228246633167, 0.45583237792008768, 0.45583228538278109, 0.45583237868524806, 0.45583228556359101, 0.45583237873306992, 0.45583228557488592, 0.45583237873605881]\n",
      "[0.45583245646397685]\n",
      "3.91757903617e-07\n"
     ]
    }
   ],
   "source": [
    "def f(x):\n",
    "    return np.sin(np.sqrt(100.*x))**2.\n",
    "\n",
    "def R(less, greater, m):\n",
    "    r_est = greater + (greater - less)/(4**m + 1)\n",
    "    return r_est\n",
    "\n",
    "def R_err(own, top, m):\n",
    "    return (own - top)/(4**m + 1)\n",
    "\n",
    "def trapezoidal(N, a, b):\n",
    "    h = (b-a)/N\n",
    "    s = 0.5*f(a) + 0.5*f(b)\n",
    "    for k in range(1,N):\n",
    "        s += f(a+k*h)\n",
    "    return h*s\n",
    "\n",
    "N = 10\n",
    "a = 0.\n",
    "b = 1.\n",
    "\n",
    "# Initial trapezoidal estimates\n",
    "\n",
    "less = trapezoidal(N, a, b) #R11\n",
    "greater = trapezoidal(2*N, a, b) #R21\n",
    "\n",
    "Rtab = [[less], [greater]]\n",
    "i = 2\n",
    "m = 1\n",
    "err = R_err(greater, less, m)\n",
    "end = False\n",
    "while (err > 10**(-6)) or not end:\n",
    "    end = False\n",
    "    Rnext = R(less, greater, m)\n",
    "    Rtab[i-1].append(Rnext)\n",
    "    m += 1\n",
    "    if m == i: # (Have we reached the end of each row?)\n",
    "        end = True # Raise flag that it's ok to stop\n",
    "        i += 1\n",
    "        m = 1\n",
    "        Rtab.append([trapezoidal(int(N*2**(i-1)), a, b)])\n",
    "    err = R_err(greater, less, m-1)\n",
    "    less = Rtab[i-2][m-2]\n",
    "    greater = Rtab[i-1][m-2]\n",
    "\n",
    "for row in Rtab:\n",
    "    print(row)\n",
    "print(err)"
   ]
  },
  {
   "cell_type": "markdown",
   "metadata": {
    "collapsed": true
   },
   "source": [
    "## Feb 28, 2018"
   ]
  },
  {
   "cell_type": "markdown",
   "metadata": {},
   "source": [
    "<b>Exercise 5.15</b>: Create a user-defined function $f(x)$ that returns the value $1 + \\frac{1}{2}tanh 2x$, then use a central difference to calculate the derivative of the function in the range $−2 ≤ x ≤ 2$. Calculate an analytic formula for the derivative and make a graph with your numerical result and the analytic answer on the same plot. It may help to plot the\n",
    "exact answer as lines and the numerical one as dots. (Hint: In Python the $tanh$ function is found in the math package, and it’s called simply $tanh$.)"
   ]
  },
  {
   "cell_type": "code",
   "execution_count": 28,
   "metadata": {
    "collapsed": true
   },
   "outputs": [],
   "source": [
    "def f(x):\n",
    "    return 1 + 0.5*np.tanh(2*x)\n",
    "\n",
    "def df_x(x, slices):\n",
    "    h = 4/slices\n",
    "    num = f(x + h/2) - f(x - h/2)\n",
    "    lim = num/h\n",
    "    return lim\n",
    "\n",
    "def d_plot(llim, ulim, slices):\n",
    "    x = np.linspace(llim, ulim, slices)\n",
    "    y1 = df_x(x, 100)\n",
    "    y2 = x + 0.25*np.log(np.cosh(2*x))\n",
    "    mp.plot(x,y1, \"--\", label = \"Num. solution\")\n",
    "    mp.plot(x,y2, \":\", label = \"Math. solution\")\n",
    "    mp.xlabel(\"$x$\")\n",
    "    mp.ylabel(\"$f(x)$\")\n",
    "    mp.legend()\n",
    "    mp.show()"
   ]
  },
  {
   "cell_type": "code",
   "execution_count": 29,
   "metadata": {},
   "outputs": [
    {
     "data": {
      "image/png": "[encoded data removed]",
      "text/plain": [
       "<matplotlib.figure.Figure at 0x278f2471400>"
      ]
     },
     "metadata": {},
     "output_type": "display_data"
    }
   ],
   "source": [
    "d_plot(-2,2, slices=100)"
   ]
  },
  {
   "cell_type": "markdown",
   "metadata": {},
   "source": [
    "<b>Exercise 5.21</b>: Electric field of a charge distribution\n",
    "\n",
    "Suppose we have a distribution of charges and we want to calculate the resulting electric field. One way to do this is to first calculate the electric potential $\\phi$ and then take its gradient. For a point charge $q$ at the origin, the electric potential at a distance $r$ from the origin is $\\phi = \\frac{q}{4\\pi\\epsilon_0 r}$ and the electric field is $\\vec{E} = −\\vec{\\nabla}\\phi$.\n",
    "\n",
    "a) You have two charges, of $\\pm$ 1 C, 10 cm apart. Calculate the resulting electric potential on a 1 m $\\times$ 1 m square plane surrounding the charges and passing through them. Calculate the potential at 1 cm spaced points in a grid and make a visualization on the screen of the potential using a density plot.\n",
    "\n",
    "b) Now calculate the partial derivatives of the potential with respect to $x$ and $y$ and hence find the electric field in the $xy$ plane. Make a visualization of the field also. This is a little trickier than visualizing the potential, because the electric field has both magnitude and direction. One way to do it might be to make two density plots, one for the magnitude, and one for the direction, the latter using the “hsv” color scheme in pylab, which is a rainbow scheme that passes through all the colors but starts and ends with the same shade of red, which makes it suitable for representing things like directions or angles that go around the full circle and end up where they started. A more sophisticated visualization might use the arrow object from the visual package, drawing a grid of arrows with direction and length chosen to represent the field.\n",
    "\n",
    "c) Now suppose you have a continuous distribution of charge over an $L \\times L$ square. The charge density in $Cm^{−2}$ is\n",
    "\n",
    "\\begin{equation}\n",
    "    \\sigma (x,y) = q_0 \\sin \\frac{2\\pi x}{L} \\sin\\frac{2\\pi y}{L}\n",
    "\\end{equation}\n",
    "\n",
    "Calculate and visualize the resulting electric field at 1 cm-spaced points in 1 square meter of the $xy$ plane for the case where L = 10 cm, the charge distribution is centered in the middle of the visualized area, and $q_0$ = 100 $Cm^{−2}$. You will have to perform a double integral over $x$ and $y$, then differentiate the potential with respect to position to get the electric field. Choose whatever integration method seems appropriate for the integrals."
   ]
  },
  {
   "cell_type": "code",
   "execution_count": 116,
   "metadata": {},
   "outputs": [
    {
     "data": {
      "image/png": "[encoded data removed]",
      "text/plain": [
       "<matplotlib.figure.Figure at 0x278f2c13748>"
      ]
     },
     "metadata": {},
     "output_type": "display_data"
    },
    {
     "ename": "TypeError",
     "evalue": "potential() takes 1 positional argument but 2 were given",
     "output_type": "error",
     "traceback": [
      "\u001b[1;31m---------------------------------------------------------------------------\u001b[0m",
      "\u001b[1;31mTypeError\u001b[0m                                 Traceback (most recent call last)",
      "\u001b[1;32m<ipython-input-116-5742293f9a52>\u001b[0m in \u001b[0;36m<module>\u001b[1;34m()\u001b[0m\n\u001b[0;32m     42\u001b[0m         \u001b[1;31m### Remember that you need to subtract 50 from y and x before inputting them into the potential function.\u001b[0m\u001b[1;33m\u001b[0m\u001b[1;33m\u001b[0m\u001b[0m\n\u001b[0;32m     43\u001b[0m         \u001b[1;31m### Also remember the order with which the potential function accepts values!\u001b[0m\u001b[1;33m\u001b[0m\u001b[1;33m\u001b[0m\u001b[0m\n\u001b[1;32m---> 44\u001b[1;33m         \u001b[0mpartialx\u001b[0m \u001b[1;33m=\u001b[0m \u001b[1;33m(\u001b[0m\u001b[0mpotential\u001b[0m\u001b[1;33m(\u001b[0m\u001b[0mx\u001b[0m\u001b[1;33m,\u001b[0m \u001b[0my\u001b[0m \u001b[1;33m+\u001b[0m \u001b[0mh\u001b[0m\u001b[1;33m/\u001b[0m\u001b[1;36m2\u001b[0m\u001b[1;33m)\u001b[0m \u001b[1;33m-\u001b[0m \u001b[0mpotential\u001b[0m\u001b[1;33m(\u001b[0m\u001b[0mx\u001b[0m\u001b[1;33m,\u001b[0m \u001b[0my\u001b[0m \u001b[1;33m-\u001b[0m \u001b[0mh\u001b[0m\u001b[1;33m/\u001b[0m\u001b[1;36m2\u001b[0m\u001b[1;33m)\u001b[0m\u001b[1;33m/\u001b[0m\u001b[0mh\u001b[0m\u001b[1;33m)\u001b[0m\u001b[1;33m\u001b[0m\u001b[0m\n\u001b[0m\u001b[0;32m     45\u001b[0m         \u001b[1;31m#Ex[y,x] =\u001b[0m\u001b[1;33m\u001b[0m\u001b[1;33m\u001b[0m\u001b[0m\n\u001b[0;32m     46\u001b[0m         \u001b[0mpartialy\u001b[0m \u001b[1;33m=\u001b[0m \u001b[1;33m(\u001b[0m\u001b[0mpotential\u001b[0m\u001b[1;33m(\u001b[0m\u001b[0mx\u001b[0m \u001b[1;33m+\u001b[0m \u001b[0mh\u001b[0m\u001b[1;33m/\u001b[0m\u001b[1;36m2\u001b[0m\u001b[1;33m,\u001b[0m \u001b[0my\u001b[0m\u001b[1;33m)\u001b[0m \u001b[1;33m-\u001b[0m \u001b[0mpotential\u001b[0m\u001b[1;33m(\u001b[0m\u001b[0mx\u001b[0m \u001b[1;33m-\u001b[0m \u001b[0mh\u001b[0m\u001b[1;33m/\u001b[0m\u001b[1;36m2\u001b[0m\u001b[1;33m,\u001b[0m \u001b[0my\u001b[0m\u001b[1;33m)\u001b[0m\u001b[1;33m/\u001b[0m\u001b[0mh\u001b[0m\u001b[1;33m)\u001b[0m\u001b[1;33m\u001b[0m\u001b[0m\n",
      "\u001b[1;31mTypeError\u001b[0m: potential() takes 1 positional argument but 2 were given"
     ]
    }
   ],
   "source": [
    "q1 = 1\n",
    "q2 = -1\n",
    "q1loc = (0,-5)\n",
    "q2loc = (0,5)\n",
    "potential_arr = np.array(np.zeros([101,101]))\n",
    "\n",
    "def potential(curcoor):\n",
    "    rq1 = np.sqrt((q1loc[1] - curcoor[1])**2 + (q1loc[0] - curcoor[0])**2)\n",
    "    rq2 = np.sqrt((q2loc[1] - curcoor[1])**2 + (q2loc[0] - curcoor[0])**2)\n",
    "    if (rq1 != 0) and (rq2 != 0):\n",
    "        return (q1*q2)/(4*np.pi*sp.epsilon_0*rq1*rq2)\n",
    "    else:\n",
    "        return 0\n",
    "    \n",
    "for y, row in enumerate(potential_arr):\n",
    "    for x, val in enumerate(row):\n",
    "        curcoord = (y-50, x-50)\n",
    "        potential_arr[y,x] = potential(curcoord)\n",
    "        \n",
    "xgrid = np.linspace(-50,50,101)\n",
    "ygrid = np.linspace(-50,50,101)\n",
    "\n",
    "fig, ax1 = mp.subplots(figsize=(8, 8))\n",
    "pot = ax1.imshow(potential_arr)\n",
    "ax1.set_xlim(25,75)\n",
    "ax1.set_ylim(25,75)\n",
    "mp.xlabel(\"$x$\")\n",
    "mp.ylabel(\"$y$\")\n",
    "mp.title(\"Potential field of a dipole\")\n",
    "mp.hot()\n",
    "fig.colorbar(pot,ax=ax1, cmap=\"hot\")\n",
    "mp.show()\n",
    "\n",
    "N = 10000\n",
    "h = 100/N\n",
    "\n",
    "Ex = np.array(np.zeros((101,101)))\n",
    "Ey = np.array(np.zeros((101,101)))\n",
    "for y, row in enumerate(Ex):\n",
    "    for x, val in enumerate(row):\n",
    "        ### Complete the following statements to get partial-x and partial-y (central difference approximation).\n",
    "        ### Remember that you need to subtract 50 from y and x before inputting them into the potential function.\n",
    "        ### Also remember the order with which the potential function accepts values!\n",
    "        partialx = (potential(y + h/2) - potential(y - h/2)/h)\n",
    "        #Ex[y,x] = \n",
    "        partialy = (potential(x + h/2) - potential(x - h/2)/h)\n",
    "        #Ey[y,x] = "
   ]
  },
  {
   "cell_type": "code",
   "execution_count": 95,
   "metadata": {},
   "outputs": [
    {
     "ename": "TypeError",
     "evalue": "float() argument must be a string or a number, not 'ellipsis'",
     "output_type": "error",
     "traceback": [
      "\u001b[1;31m---------------------------------------------------------------------------\u001b[0m",
      "\u001b[1;31mTypeError\u001b[0m                                 Traceback (most recent call last)",
      "\u001b[1;32m<ipython-input-95-3167ab12bf34>\u001b[0m in \u001b[0;36m<module>\u001b[1;34m()\u001b[0m\n\u001b[0;32m     41\u001b[0m         \u001b[0mcurcoord\u001b[0m \u001b[1;33m=\u001b[0m \u001b[1;33m(\u001b[0m\u001b[0my\u001b[0m\u001b[1;33m-\u001b[0m\u001b[1;36m50\u001b[0m\u001b[1;33m,\u001b[0m \u001b[0mx\u001b[0m\u001b[1;33m-\u001b[0m\u001b[1;36m50\u001b[0m\u001b[1;33m)\u001b[0m \u001b[1;31m# get current coordinates\u001b[0m\u001b[1;33m\u001b[0m\u001b[0m\n\u001b[0;32m     42\u001b[0m         \u001b[1;31m### Why must we subtract 50 from x and y here? hint: Python indexing\u001b[0m\u001b[1;33m\u001b[0m\u001b[1;33m\u001b[0m\u001b[0m\n\u001b[1;32m---> 43\u001b[1;33m         \u001b[0mpotential_arr\u001b[0m\u001b[1;33m[\u001b[0m\u001b[0my\u001b[0m\u001b[1;33m,\u001b[0m\u001b[0mx\u001b[0m\u001b[1;33m]\u001b[0m \u001b[1;33m=\u001b[0m \u001b[0mpotential\u001b[0m\u001b[1;33m(\u001b[0m\u001b[0mcurcoord\u001b[0m\u001b[1;33m)\u001b[0m\u001b[1;33m\u001b[0m\u001b[0m\n\u001b[0m\u001b[0;32m     44\u001b[0m \u001b[1;33m\u001b[0m\u001b[0m\n\u001b[0;32m     45\u001b[0m \u001b[1;31m# Visualize our potential\u001b[0m\u001b[1;33m\u001b[0m\u001b[1;33m\u001b[0m\u001b[0m\n",
      "\u001b[1;31mTypeError\u001b[0m: float() argument must be a string or a number, not 'ellipsis'"
     ]
    }
   ],
   "source": [
    "#!/usr/bin/env python\n",
    "\"\"\"\n",
    "Initial code for Electric Field of a Charge Distribution (Newman 5.21)\n",
    "======================================================================\n",
    "\n",
    "This is a base implementation of exercise 5.21 that plots the electric potential and \n",
    "electric field of two point charges with opposite signs. \n",
    "\n",
    "For a charge distribution, the potential may be found as the summation of the potential due\n",
    "to each individual charge, while the electric field is simply the negative gradient of the\n",
    "potential function.\n",
    "\n",
    "Parts of the code with '...' will need to be completed.\n",
    "Comments prepended with ### are guide questions.\n",
    "\"\"\"\n",
    "\n",
    "__author__ = \"Micholo Medrana\"\n",
    "__credits__ = \"Mark Newman\"\n",
    "\n",
    "# Initialize potential due to charges\n",
    "q1 = 1\n",
    "q2 = -1\n",
    "q1loc = (0,-10) #location of charge 1\n",
    "q2loc = (0,10) #location of charge 2\n",
    "\n",
    "potential_arr = np.array(np.zeros((101,101))) # initialize potential array\n",
    "\n",
    "def potential(curcoord): \n",
    "    '''\n",
    "    Function to calculate electric potential due to our two charges at a location curcoord = (y, x)\n",
    "    '''\n",
    "    rq1 = np.sqrt((q1loc[0]-curcoord[0])**2 + (q1loc[1]-curcoord[1])**2) # calculate distance of location to charge 1\n",
    "    rq2 = ... # calculate distance of location to charge 2\n",
    "    if (rq1 != 0) and (rq2 != 0): # if our current coordinate is not at the charge\n",
    "        return ... # calculate potential\n",
    "    else:\n",
    "        return 0 # potential diverges at locations of charges\n",
    "\n",
    "for y, row in enumerate(potential_arr):\n",
    "    for x, val in enumerate(row):\n",
    "        curcoord = (y-50, x-50) # get current coordinates\n",
    "        ### Why must we subtract 50 from x and y here? hint: Python indexing\n",
    "        potential_arr[y,x] = potential(curcoord)\n",
    "\n",
    "# Visualize our potential\n",
    "\n",
    "xgrid = np.linspace(-50,50,101)\n",
    "ygrid = np.linspace(-50,50,101)\n",
    "\n",
    "# fig = plt.figure()\n",
    "# ax = fig.add_subplot(111)\n",
    "\n",
    "fig, (ax1, ax2) = plt.subplots(figsize=(8, 3), ncols=2)\n",
    "#pot = ax1.imshow(potential_arr)\n",
    "pot = ax1.contourf(xgrid, ygrid, potential_arr, cmap='RdBu_r')\n",
    "ax1.contour(xgrid, ygrid, potential_arr, colors='k', linestyles='solid')\n",
    "ax1.set_xlabel(\"x\")\n",
    "ax1.set_ylabel(\"y\")\n",
    "ax1.set_xlim(-15,15)\n",
    "ax1.set_ylim(-15,15)\n",
    "ax1.set_aspect('equal')\n",
    "fig.colorbar(pot,ax=ax1)\n",
    "### Add a title to this subfigure.\n",
    "\n",
    "# Calculate E = -gradient phi\n",
    "# note that gradient (2D) is just (\\partial f/\\partial x) xhat + (\\partial f/\\partial y) yhat\n",
    "\n",
    "h = 0.01 # Choose some h.\n",
    "### Can we adaptively optimize this value to be within a reasonable error?\n",
    "\n",
    "Ex = np.array(np.zeros((101,101))) #initialize array for x-components of field\n",
    "Ey = np.array(np.zeros((101,101))) #initialize array for y-components of field\n",
    "for y, row in enumerate(Ex):\n",
    "    for x, val in enumerate(row):\n",
    "        ### Complete the following statements to get partial-x and partial-y (central difference approximation).\n",
    "        ### Remember that you need to subtract 50 from y and x before inputting them into the potential function.\n",
    "        ### Also remember the order with which the potential function accepts values!\n",
    "        partialx = ...\n",
    "        Ex[y,x] = ...\n",
    "        partialy = ...\n",
    "        Ey[y,x] = ...\n",
    "\n",
    "# Plot the electric field using streamplot\n",
    "color = 2 * np.log(np.hypot(Ex,Ey))\n",
    "ele = ax2.streamplot(xgrid, ygrid, Ex, Ey, color=color, linewidth=1, cmap = plt.cm.inferno,\n",
    "             density=2, arrowstyle='->', arrowsize=1.5)\n",
    "             ### Study the parameters of the streamplot function. What does each do?\n",
    "             ### See: https://matplotlib.org/gallery/images_contours_and_fields/plot_streamplot.html\n",
    "ax2.set_xlabel(\"x\")\n",
    "ax2.set_ylabel(\"y\")\n",
    "ax2.set_xlim(-50,50)\n",
    "ax2.set_ylim(-50,50)\n",
    "ax2.set_aspect('equal')\n",
    "fig.colorbar(ele.lines,ax=ax2)\n",
    "### Add a title to this subfigure.\n",
    "plt.show()\n",
    "\n",
    "### Check your plots and see if they correspond to that of a dipole potential and electric field.\n",
    "### For enrichment, you can modify the code to plot the field of a quadrupole, octapole, or any \n",
    "### arbitrary charge distribution."
   ]
  },
  {
   "cell_type": "code",
   "execution_count": null,
   "metadata": {
    "collapsed": true
   },
   "outputs": [],
   "source": []
  }
 ],
 "metadata": {
  "kernelspec": {
   "display_name": "Python 3",
   "language": "python",
   "name": "python3"
  },
  "language_info": {
   "codemirror_mode": {
    "name": "ipython",
    "version": 3
   },
   "file_extension": ".py",
   "mimetype": "text/x-python",
   "name": "python",
   "nbconvert_exporter": "python",
   "pygments_lexer": "ipython3",
   "version": "3.6.8"
  },
  "latex_envs": {
   "LaTeX_envs_menu_present": true,
   "autoclose": true,
   "autocomplete": true,
   "bibliofile": "biblio.bib",
   "cite_by": "apalike",
   "current_citInitial": 1,
   "eqLabelWithNumbers": true,
   "eqNumInitial": 1,
   "hotkeys": {
    "equation": "Ctrl-E",
    "itemize": "Ctrl-I"
   },
   "labels_anchors": false,
   "latex_user_defs": false,
   "report_style_numbering": false,
   "user_envs_cfg": false
  },
  "varInspector": {
   "cols": {
    "lenName": 16,
    "lenType": 16,
    "lenVar": 40
   },
   "kernels_config": {
    "python": {
     "delete_cmd_postfix": "",
     "delete_cmd_prefix": "del ",
     "library": "var_list.py",
     "varRefreshCmd": "print(var_dic_list())"
    },
    "r": {
     "delete_cmd_postfix": ") ",
     "delete_cmd_prefix": "rm(",
     "library": "var_list.r",
     "varRefreshCmd": "cat(var_dic_list()) "
    }
   },
   "types_to_exclude": [
    "module",
    "function",
    "builtin_function_or_method",
    "instance",
    "_Feature"
   ],
   "window_display": false
  }
 },
 "nbformat": 4,
 "nbformat_minor": 2
}
