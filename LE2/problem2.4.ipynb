{
 "cells": [
  {
   "cell_type": "markdown",
   "metadata": {},
   "source": [
    "<h1>App Physics 155 - LE 2</h1>\n",
    "<h2>Kenneth V. Domingo<br />\n",
    "2015-03116</h2>"
   ]
  },
  {
   "cell_type": "markdown",
   "metadata": {},
   "source": [
    "<b>Problem 2.4: Fourier filtering</b>\n",
    "\n",
    "The function $f(t)$ represents a square-wave with amplitude 1 and frequency 1 Hz.\n",
    "\n",
    "Let us attempt to smooth this function using a Fourier transform, as we did in the previous exercise. Write a program that\n",
    "creates an array of $N$ = 1000 elements containing a thousand equally spaced samples from a single cycle of this square-wave. Calculate the discrete Fourier transform of the array. Now set all but the first ten Fourier coefficients to zero, then invert the Fourier transform again to recover the smoothed signal. Make a plot of the result and on the same axes show the\n",
    "original square-wave as well. You should find that the signal is not simply smoothed — there are artifacts, wiggles, in the results. Explain briefly where these come from.\n",
    "\n",
    "Artifacts similar to these arise when Fourier coefficients are discarded in audio and visual compression schemes like those described in Section 7.3.1 and are the primary source of imperfections in digitally compressed sound and images."
   ]
  },
  {
   "cell_type": "code",
   "execution_count": 1,
   "metadata": {
    "collapsed": true
   },
   "outputs": [],
   "source": [
    "import numpy as np\n",
    "import matplotlib.pyplot as mp\n",
    "import numpy.fft as fft\n",
    "%matplotlib inline"
   ]
  },
  {
   "cell_type": "code",
   "execution_count": 85,
   "metadata": {
    "collapsed": true
   },
   "outputs": [],
   "source": [
    "\"\"\"\n",
    "def dft(y):\n",
    "    N = len(y)\n",
    "    c = np.array([], complex)\n",
    "    for k in range(N):\n",
    "        cm = 0.0\n",
    "        for n in range(N):\n",
    "            cm += y[n] * np.exp(-1j*2*np.pi*k*n/N)\n",
    "        np.append(c, cm/N)\n",
    "    return c\n",
    "        \n",
    "def idft(c):\n",
    "    N = len(c)\n",
    "    y = np.array([], complex)\n",
    "    for k in range(N):\n",
    "        ym = 0.0\n",
    "        for n in range(N):\n",
    "            ym += c[n] * np.exp(1j*2*np.pi*k*n/N)\n",
    "        np.append(y, ym)\n",
    "    return y\n",
    "\"\"\"\n",
    "\n",
    "def dft(y):\n",
    "    N = len(y)\n",
    "    c = np.zeros(N//2 + 1, complex)\n",
    "    n = np.arange(0,N)\n",
    "    for k in range(N//2 + 1):\n",
    "        c[k] = sum(y*np.exp(-1j*2*np.pi*k*n/N))/2\n",
    "    return c\n",
    "\n",
    "def idft(c):\n",
    "    N = len(c)\n",
    "    y = np.zeros(N//2 + 1, complex)\n",
    "    n = np.arange(0,N)\n",
    "    for k in range(N//2 + 1):\n",
    "        y[k] = 2/N*sum(c*np.exp(1j*4*np.pi*k*n/N))\n",
    "    return y"
   ]
  },
  {
   "cell_type": "code",
   "execution_count": 86,
   "metadata": {},
   "outputs": [
    {
     "name": "stderr",
     "output_type": "stream",
     "text": [
      "C:\\ProgramData\\Anaconda3\\lib\\site-packages\\numpy\\core\\numeric.py:531: ComplexWarning: Casting complex values to real discards the imaginary part\n",
      "  return array(a, dtype, copy=False, order=order)\n"
     ]
    },
    {
     "data": {
      "image/png": "[encoded data removed]",
      "text/plain": [
       "<matplotlib.figure.Figure at 0x2ca491556d8>"
      ]
     },
     "metadata": {},
     "output_type": "display_data"
    }
   ],
   "source": [
    "N = 1000\n",
    "y1 = np.ones(N)*-1\n",
    "x1 = np.linspace(0,1,N)\n",
    "y1[:N//2] = 1\n",
    "mp.plot(x1,y1, \"b\", label=\"No smoothing\")\n",
    "\n",
    "c = dft(y1)\n",
    "c[11:] = 0\n",
    "y2 = idft(c)\n",
    "x2 = np.linspace(0,1,len(y2))\n",
    "mp.plot(x2,y2, \"r\", label =\"With smoothing\")\n",
    "\n",
    "mp.title(\"Filtering a square wave\")\n",
    "mp.xlabel(\"Time, $t$ [$s$]\")\n",
    "mp.ylabel(\"Amplitude\")\n",
    "mp.legend()\n",
    "mp.show()"
   ]
  },
  {
   "cell_type": "code",
   "execution_count": null,
   "metadata": {
    "collapsed": true
   },
   "outputs": [],
   "source": []
  }
 ],
 "metadata": {
  "kernelspec": {
   "display_name": "Python 3",
   "language": "python",
   "name": "python3"
  },
  "language_info": {
   "codemirror_mode": {
    "name": "ipython",
    "version": 3
   },
   "file_extension": ".py",
   "mimetype": "text/x-python",
   "name": "python",
   "nbconvert_exporter": "python",
   "pygments_lexer": "ipython3",
   "version": "3.6.1"
  },
  "latex_envs": {
   "LaTeX_envs_menu_present": true,
   "autoclose": true,
   "autocomplete": true,
   "bibliofile": "biblio.bib",
   "cite_by": "apalike",
   "current_citInitial": 1,
   "eqLabelWithNumbers": true,
   "eqNumInitial": 1,
   "hotkeys": {
    "equation": "Ctrl-E",
    "itemize": "Ctrl-I"
   },
   "labels_anchors": false,
   "latex_user_defs": false,
   "report_style_numbering": false,
   "user_envs_cfg": false
  },
  "varInspector": {
   "cols": {
    "lenName": 16,
    "lenType": 16,
    "lenVar": 40
   },
   "kernels_config": {
    "python": {
     "delete_cmd_postfix": "",
     "delete_cmd_prefix": "del ",
     "library": "var_list.py",
     "varRefreshCmd": "print(var_dic_list())"
    },
    "r": {
     "delete_cmd_postfix": ") ",
     "delete_cmd_prefix": "rm(",
     "library": "var_list.r",
     "varRefreshCmd": "cat(var_dic_list()) "
    }
   },
   "types_to_exclude": [
    "module",
    "function",
    "builtin_function_or_method",
    "instance",
    "_Feature"
   ],
   "window_display": false
  }
 },
 "nbformat": 4,
 "nbformat_minor": 2
}
