{
 "cells": [
  {
   "cell_type": "markdown",
   "metadata": {},
   "source": [
    "<h1>App Physics 155 - LE 2</h1>\n",
    "<h2>Kenneth V. Domingo<br />\n",
    "2015-03116</h2>"
   ]
  },
  {
   "cell_type": "markdown",
   "metadata": {},
   "source": [
    "The resistors obey the normal Ohm law, but the diode obeys the diode equation:\n",
    "\n",
    "\\begin{equation}\n",
    "    I = I_0(e^{\\frac{V}{V_T}}-1)\n",
    "\\end{equation}\n",
    "\n",
    "where $V$ is the voltage across the diode and $I_0$ and $V_T$ are constants.\n",
    "\n",
    "a) The Kirchhoff current law says that the total net current flowing into or out of every point in a circuit must be zero. Applying the law to voltage $V_1$ in the circuit above we get\n",
    "\n",
    "\\begin{equation}\n",
    "    \\frac{V_1+V_+}{R_1} + \\frac{V_1}{R_2} + I_0[e^{\\frac{V_1-V_2}{V_T}}-1] = 0\n",
    "\\end{equation}\n",
    "\n",
    "Derive the corresponding equation for voltage $V_2$.\n",
    "\n",
    "b) Solve the two nonlinear equations for the voltages $V_1$ and $V_2$ with the conditions\n",
    "\n",
    "\\begin{equation}\n",
    "    V_+ = 5V\n",
    "\\end{equation}\n",
    "\\begin{equation}\n",
    "    R_1 = 1k\\Omega\n",
    "\\end{equation}\n",
    "\\begin{equation}\n",
    "    R_2 = 4k\\Omega\n",
    "\\end{equation}\n",
    "\\begin{equation}\n",
    "    R_3 = 3k\\Omega\n",
    "\\end{equation}\n",
    "\\begin{equation}\n",
    "    R_4 = 2k\\Omega\n",
    "\\end{equation}\n",
    "\\begin{equation}\n",
    "    I_0 = 3 nA\n",
    "\\end{equation}\n",
    "\\begin{equation}\n",
    "    V_T = 0.05V\n",
    "\\end{equation}\n",
    "\n",
    "You can use either the relaxation method or Newton’s method to solve the equations. If you useNewton’s method you can solve $\\nabla f \\cdot \\Delta x = f(x)$ for $\\Delta x$ using the function solve() from numpy.linalg if you want to, but in this case the matrix is only a 2$\\times$2 matrix, so it’s easy to calculate the inverse directly too.\n",
    "\n",
    "c) The electronic engineer’s rule of thumb for diodes is that the voltage across a (forward biased) diode is always about 0.6 volts. Confirm that your results agree with this rule."
   ]
  },
  {
   "cell_type": "code",
   "execution_count": 1,
   "metadata": {
    "collapsed": true
   },
   "outputs": [],
   "source": [
    "import numpy as np\n",
    "import numpy.linalg as la"
   ]
  },
  {
   "cell_type": "markdown",
   "metadata": {},
   "source": [
    "\\begin{equation}\n",
    "    \\frac{V_2-V_+}{R_3} + \\frac{V_2}{R_4} + I_0[e^{\\frac{V_2-V_1}{V_T}}-1] = 0\n",
    "\\end{equation}"
   ]
  },
  {
   "cell_type": "code",
   "execution_count": 8,
   "metadata": {
    "collapsed": true
   },
   "outputs": [],
   "source": [
    "Vin = 5\n",
    "R1 = 1e3\n",
    "R2 = 4e3\n",
    "R3 = 3e3\n",
    "R4 = 2e3\n",
    "I0 = 3e-9\n",
    "Vt = 0.05"
   ]
  },
  {
   "cell_type": "code",
   "execution_count": null,
   "metadata": {
    "collapsed": true
   },
   "outputs": [],
   "source": [
    "def V1(x):\n",
    "    return (x - Vin)/R1 + x/R2 + I0*(np.exp((x-V2)/Vt)-1)\n",
    "\n",
    "def dV1(x):\n",
    "    return (1-Vin)/R1 + 1/R2 + I0*((1-V2)/Vt*np.exp((x-V2)/Vt)-1)\n",
    "\n",
    "def dx(f,x):\n",
    "    return abs(0-V1(x))\n",
    "\n",
    "def newton(f,df,x0,e):\n",
    "    delta = dx(f,x0)\n",
    "    while delta > e:\n",
    "        x0 = x0 - V1(x0)/dV1(x0)\n",
    "        delta = dx(f,x0)\n",
    "    print(\"Root at:\", x0)\n",
    "    print(\"V1(x) at root:\", V1(x0))\n",
    "    \n",
    "x0s = [0, 0.5, 1]\n",
    "for x0 in x0s:\n",
    "    newton(V1, dV1, x0, 1e-6)"
   ]
  }
 ],
 "metadata": {
  "kernelspec": {
   "display_name": "Python 3",
   "language": "python",
   "name": "python3"
  },
  "language_info": {
   "codemirror_mode": {
    "name": "ipython",
    "version": 3
   },
   "file_extension": ".py",
   "mimetype": "text/x-python",
   "name": "python",
   "nbconvert_exporter": "python",
   "pygments_lexer": "ipython3",
   "version": "3.6.1"
  }
 },
 "nbformat": 4,
 "nbformat_minor": 2
}
