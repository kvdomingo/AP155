{
 "cells": [
  {
   "cell_type": "markdown",
   "metadata": {},
   "source": [
    "<h1>App Physics 155 - LE 3</h1>\n",
    "<h2>Kenneth V. Domingo<br />\n",
    "2015-03116</h2>"
   ]
  },
  {
   "cell_type": "markdown",
   "metadata": {},
   "source": [
    "<b>Problem 3.3: Oscillating chemical reactions</b>\n",
    "\n",
    "The Belousov–Zhabotinsky reaction is a chemical oscillator, a cocktail of chemicals which, when heated, undergoes a series of reactions that cause the chemical concentrations in the mixture to oscillate between two extremes. You can add an indicator dye to the reaction which changes color depending on the concentrations and watch the mixture switch back and forth between two different colors for as long as you go on heating the mixture.\n",
    "\n",
    "Physicist Ilya Prigogine formulated a mathematical model of this type of chemical oscillator, which he called the “Brusselator” after his home town of Brussels. The equations for the Brusselator are\n",
    "\n",
    "\\begin{equation}\n",
    "    \\frac{dx}{dt} = 1 - (b+1)x + ax^2 y\n",
    "\\end{equation}\n",
    "\\begin{equation}\n",
    "    \\frac{dy}{dt} = bx - ax^2 y\n",
    "\\end{equation}\n",
    "\n",
    "Here $x$ and $y$ represent concentrations of chemicals and $a$ and $b$ are positive constants.\n",
    "\n",
    "Write a program to solve these equations for the case $a$ = 1, $b$ = 3 with initial conditions $x$ = $y$ = 0, to an accuracy of at least $\\delta$ = 10$^{−10}$ per unit time in both $x$ and $y$, using the adaptive Bulirsch–Stoer method. Calculate a solution from $t$ = 0 to $t$ = 20, initially using a single time interval of size $H$ = 20. Allow a maximum of $n$ = 8 modified midpoint steps in an interval before you divide in half and try again.\n",
    "\n",
    "Make a plot of your solutions for $x$ and $y$ as a function of time, both on the same graph, and have your program add dots to the curves to show where the boundaries of the time intervals lie. You should find that the points are significantly closer together in parts of the solution where the variables are changing rapidly.\n",
    "\n",
    "Hint: The simplest way to perform the calculation is to make use of recursion."
   ]
  },
  {
   "cell_type": "code",
   "execution_count": 1,
   "metadata": {
    "collapsed": true
   },
   "outputs": [],
   "source": [
    "import numpy as np\n",
    "import matplotlib.pyplot as mp\n",
    "%matplotlib inline"
   ]
  },
  {
   "cell_type": "code",
   "execution_count": 2,
   "metadata": {},
   "outputs": [],
   "source": [
    "a = 1\n",
    "b = 3\n",
    "delta = 1e-10\n",
    "N = 1000\n",
    "ta = 0.0\n",
    "tb = 20.0\n",
    "H = (tb-ta)/N\n",
    "\n",
    "def f(r):\n",
    "    x,y = r[0],r[1]\n",
    "    fx = 1 - (b+1)*x + a*x**2*y\n",
    "    fy = b*x - a*x**2*y\n",
    "    return np.array([ fx , fy ], float)"
   ]
  },
  {
   "cell_type": "code",
   "execution_count": 3,
   "metadata": {
    "collapsed": true
   },
   "outputs": [],
   "source": [
    "tpoints = np.arange(ta,tb,H)\n",
    "xpoints = []\n",
    "ypoints = []\n",
    "r = np.array([ 0.0 , 0.0 ], float)\n",
    "\n",
    "for t in tpoints:\n",
    "    xpoints.append(r[0])\n",
    "    ypoints.append(r[1])\n",
    "    \n",
    "    n = 1\n",
    "    r1 = r + 0.5*H*f(r)\n",
    "    r2 = r + H*f(r1)\n",
    "    \n",
    "    R1 = np.empty([1,2], float)\n",
    "    R1[0] = 0.5*(r1 + r2 + 0.5*H*f(r2))\n",
    "    \n",
    "    err = 2*H*delta\n",
    "    while err > H*delta:\n",
    "        if n <= 8:\n",
    "            n += 1\n",
    "            h = H/n\n",
    "\n",
    "            r1 = r + 0.5*h*f(r)\n",
    "            r2 = r + h*f(r1)\n",
    "            for i in range(n-1):\n",
    "                r1 += h*f(r2)\n",
    "                r2 += h*f(r1)\n",
    "\n",
    "            R2 = np.copy(R1)\n",
    "            R1 = np.empty([n,2], float)\n",
    "            R1[0] = 0.5*(r1 + r2 + 0.5*h*f(r2))\n",
    "            for m in range(1,n):\n",
    "                epsilon = (R1[m-1] - R2[m-1])/((n/(n-1))**(2*m)-1)\n",
    "                R1[m] = R1[m-1] + epsilon\n",
    "            err = abs(epsilon[0])\n",
    "        else:\n",
    "            break\n",
    "    r = R1[n-1]"
   ]
  },
  {
   "cell_type": "code",
   "execution_count": 4,
   "metadata": {},
   "outputs": [
    {
     "data": {
      "image/png": "[encoded data removed]",
      "text/plain": [
       "<matplotlib.figure.Figure at 0x2010eec2ba8>"
      ]
     },
     "metadata": {},
     "output_type": "display_data"
    }
   ],
   "source": [
    "mp.plot(tpoints, xpoints, \"b-\", label=\"$x$ concentration\")\n",
    "mp.plot(tpoints[::50], xpoints[::50], \"bo\")\n",
    "mp.plot(tpoints, ypoints, \"r-\", label=\"$y$ concentration\")\n",
    "mp.plot(tpoints[::50], ypoints[::50], \"ro\")\n",
    "mp.xlabel(\"Time\")\n",
    "mp.ylabel(\"Concentration\")\n",
    "mp.title(\"Belousov-Zhabotinsky reaction\")\n",
    "mp.legend()\n",
    "mp.show()"
   ]
  }
 ],
 "metadata": {
  "kernelspec": {
   "display_name": "Python 3",
   "language": "python",
   "name": "python3"
  },
  "language_info": {
   "codemirror_mode": {
    "name": "ipython",
    "version": 3
   },
   "file_extension": ".py",
   "mimetype": "text/x-python",
   "name": "python",
   "nbconvert_exporter": "python",
   "pygments_lexer": "ipython3",
   "version": "3.6.1"
  }
 },
 "nbformat": 4,
 "nbformat_minor": 2
}
