{
 "cells": [
  {
   "cell_type": "markdown",
   "metadata": {},
   "source": [
    "<h1>App Physics 155 (lab)</h1>\n",
    "<h2>Feb. 7, 2018</h2><br />\n",
    "Kenneth V. Domingo<br />\n",
    "2015-03116"
   ]
  },
  {
   "cell_type": "code",
   "execution_count": 18,
   "metadata": {},
   "outputs": [],
   "source": [
    "import numpy as np\n",
    "from decimal import Decimal as dec\n",
    "from decimal import getcontext"
   ]
  },
  {
   "cell_type": "markdown",
   "metadata": {},
   "source": [
    "<b>Exercise 4.2: Quadratic equations</b><br /><br />\n",
    "a) Write a program that takes as input three numbers, $a$, $b$, and $c$, and prints out\n",
    "the two solutions to the quadratic equation $ax^2 + bx + c = 0$ using the standard\n",
    "formula\n",
    "\n",
    "\\begin{equation}\n",
    "    x = \\frac{-b \\pm \\sqrt{b^2 - 4ac}}{2a}\n",
    "\\end{equation}\n",
    "\n",
    "Use your program to compute the solutions of $0.001x^2 + 1000x + 0.001 = 0$."
   ]
  },
  {
   "cell_type": "code",
   "execution_count": 19,
   "metadata": {
    "collapsed": true
   },
   "outputs": [],
   "source": [
    "def quadratic(a,b,c):\n",
    "    x1 = (-b + np.sqrt(b**2 - 4*a*c))/(2*a)\n",
    "    x2 = (-b - np.sqrt(b**2 - 4*a*c))/(2*a)\n",
    "    print(\"x1 = \", x1)\n",
    "    print(\"x2 = \", x2)\n",
    "    print(\"Solution 1 = \", a*x1**2 + b*x1 + c)\n",
    "    print(\"Solution 2 = \", a*x2**2 + b*x2 + c)"
   ]
  },
  {
   "cell_type": "code",
   "execution_count": 20,
   "metadata": {},
   "outputs": [
    {
     "name": "stdout",
     "output_type": "stream",
     "text": [
      "x1 =  -9.99989424599e-07\n",
      "x2 =  -999999.999999\n",
      "Solution 1 =  1.05754016655e-08\n",
      "Solution 2 =  7.24792480469e-08\n"
     ]
    }
   ],
   "source": [
    "quadratic(.001, 1000, .001)"
   ]
  },
  {
   "cell_type": "markdown",
   "metadata": {},
   "source": [
    "b) There is another way to write the solutions to a quadratic equation. Multiplying\n",
    "top and bottom of the solution above by $−b \\mp \\sqrt{b^2 − 4ac}$, show that the solutions\n",
    "can also be written as\n",
    "\n",
    "\\begin{equation}\n",
    "    x = \\frac{2c}{-b \\mp \\sqrt{b^2 - 4ac}}\n",
    "\\end{equation}\n",
    "\n",
    "Add further lines to your program to print these values in addition to the earlier\n",
    "ones and again use the program to solve $0.001x^2 + 1000x + 0.001 = 0$. What do\n",
    "you see? How do you explain it?"
   ]
  },
  {
   "cell_type": "code",
   "execution_count": null,
   "metadata": {},
   "outputs": [],
   "source": [
    "def quadratic_acc(a,b,c):\n",
    "    x1 = (2*c)/(-b - np.sqrt(b**2 - 4*a*c))\n",
    "    x2 = (2*c)/(-b + np.sqrt(b**2 - 4*a*c))\n",
    "    print(\"x1 = \", x1)\n",
    "    print(\"x2 = \", x2)\n",
    "    print(\"Solution 1 = \", a*x1**2 + b*x1 + c)\n",
    "    print(\"Solution 2 = \", a*x2**2 + b*x2 + c)"
   ]
  },
  {
   "cell_type": "code",
   "execution_count": null,
   "metadata": {},
   "outputs": [],
   "source": [
    "quadratic_acc(.001,1000,.001)"
   ]
  },
  {
   "cell_type": "markdown",
   "metadata": {},
   "source": [
    "(c) Using what you have learned, write a new program that calculates both roots of\n",
    "a quadratic equation accurately in all cases."
   ]
  },
  {
   "cell_type": "code",
   "execution_count": 49,
   "metadata": {},
   "outputs": [],
   "source": [
    "getcontext().prec = 16\n",
    "def quadratic_prec1(a,b,c):\n",
    "    x1 = (dec(-b) + np.sqrt(dec(b)**dec(2) - dec(4)*dec(a)*dec(c)))/(dec(2)*dec(a))\n",
    "    x2 = (dec(-b) - np.sqrt(dec(b)**dec(2) - dec(4)*dec(a)*dec(c)))/(dec(2)*dec(a))\n",
    "    sol1 = dec(a)*dec(x1)**dec(2) + dec(b)*dec(x1) + dec(c)\n",
    "    sol2 = dec(a)*dec(x2)**dec(2) + dec(b)*dec(x2) + dec(c)\n",
    "    print(\"By equation (1): \")\n",
    "    print(\"x1 = \", x1)\n",
    "    print(\"x2 = \", x2)\n",
    "    print(\"Solution 1 = \", sol1)\n",
    "    print(\"Solution 2 = \", sol2)\n",
    "    \n",
    "def quadratic_prec2(a,b,c):\n",
    "    x1 = (dec(2)*dec(c))/(dec(-b) - np.sqrt(dec(b)**dec(2) - dec(4)*dec(a)*dec(c)))\n",
    "    x2 = (dec(2)*dec(c))/(dec(-b) + np.sqrt(dec(b)**dec(2) - dec(4)*dec(a)*dec(c)))\n",
    "    sol1 = dec(a)*dec(x1)**dec(2) + dec(b)*dec(x1) + dec(c)\n",
    "    sol2 = dec(a)*dec(x2)**dec(2) + dec(b)*dec(x2) + dec(c)\n",
    "    print(\"\\nBy equation (2): \")\n",
    "    print(\"x1 = \", x1)\n",
    "    print(\"x2 = \", x2)\n",
    "    print(\"Solution 1 = \", sol1)\n",
    "    print(\"Solution 2 = \", sol2)"
   ]
  },
  {
   "cell_type": "code",
   "execution_count": 50,
   "metadata": {},
   "outputs": [
    {
     "name": "stdout",
     "output_type": "stream",
     "text": [
      "By equation (1): \n",
      "x1 =  -0.000001\n",
      "x2 =  -999999.999999\n",
      "Solution 1 =  1.000020816681712E-15\n",
      "Solution 2 =  2.081668171172169E-20\n",
      "\n",
      "By equation (2): \n",
      "x1 =  -0.000001000000000001000\n",
      "x2 =  -1000000.00000\n",
      "Solution 1 =  2.081668171172169E-20\n",
      "Solution 2 =  0.001000000000000000\n"
     ]
    }
   ],
   "source": [
    "quadratic_prec1(.001,1000,.001)\n",
    "quadratic_prec2(.001,1000,.001)"
   ]
  },
  {
   "cell_type": "markdown",
   "metadata": {},
   "source": [
    "Equation (2) yields more accurate roots for the quadratic equation, where\n",
    "\n",
    "\\begin{equation}\n",
    "    x_{+} \\approx -0.000001\n",
    "\\end{equation}\n",
    "\\begin{equation}\n",
    "    x_{-} \\approx -1000000\n",
    "\\end{equation}\n",
    "\n",
    "Plugging these into the original quadratic equation, we get\n",
    "\n",
    "\\begin{equation}\n",
    "    x_{-}: 2.08 \\times 10^{-20} \\approx 0\n",
    "\\end{equation}\n",
    "\\begin{equation}\n",
    "    x_{+}: 0.001 \\sim 0\n",
    "\\end{equation}"
   ]
  }
 ],
 "metadata": {
  "kernelspec": {
   "display_name": "Python 3",
   "language": "python",
   "name": "python3"
  },
  "language_info": {
   "codemirror_mode": {
    "name": "ipython",
    "version": 3
   },
   "file_extension": ".py",
   "mimetype": "text/x-python",
   "name": "python",
   "nbconvert_exporter": "python",
   "pygments_lexer": "ipython3",
   "version": "3.6.1"
  }
 },
 "nbformat": 4,
 "nbformat_minor": 2
}
