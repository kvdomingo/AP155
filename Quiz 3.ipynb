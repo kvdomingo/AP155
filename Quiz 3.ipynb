{
 "cells": [
  {
   "cell_type": "code",
   "execution_count": 1,
   "metadata": {
    "collapsed": true
   },
   "outputs": [],
   "source": [
    "import numpy as np"
   ]
  },
  {
   "cell_type": "markdown",
   "metadata": {},
   "source": [
    "<b>(1)</b>"
   ]
  },
  {
   "cell_type": "code",
   "execution_count": 49,
   "metadata": {
    "collapsed": true
   },
   "outputs": [],
   "source": [
    "def quadratic(a = 0.00005, b = 2018, c = 0.00005):\n",
    "    x1 = (b + np.sqrt(b**2 - 4*a*c))/(2*a)\n",
    "    x2 = c/(a*x1)\n",
    "    print(\"Root 1:\", x1)\n",
    "    print(\"Root 2:\", x2)"
   ]
  },
  {
   "cell_type": "code",
   "execution_count": 50,
   "metadata": {},
   "outputs": [
    {
     "name": "stdout",
     "output_type": "stream",
     "text": [
      "Root 1: 40360000.0\n",
      "Root 2: 2.47770069376e-08\n"
     ]
    }
   ],
   "source": [
    "quadratic()"
   ]
  },
  {
   "cell_type": "code",
   "execution_count": 51,
   "metadata": {},
   "outputs": [],
   "source": [
    "def quadratic_acc(a = 0.00005, b = 2018, c = 0.00005):\n",
    "    x1 = (2*c)/(b + np.sqrt(b**2 - 4*a*c))\n",
    "    x2 = c/(a*x1)\n",
    "    print(\"Root 1:\", x1)\n",
    "    print(\"Root 2:\", x2)"
   ]
  },
  {
   "cell_type": "code",
   "execution_count": 52,
   "metadata": {},
   "outputs": [
    {
     "name": "stdout",
     "output_type": "stream",
     "text": [
      "Root 1: 2.47770069376e-08\n",
      "Root 2: 40360000.0\n"
     ]
    }
   ],
   "source": [
    "quadratic_acc()"
   ]
  },
  {
   "cell_type": "markdown",
   "metadata": {},
   "source": [
    "<b>(2)</b>"
   ]
  },
  {
   "cell_type": "code",
   "execution_count": 55,
   "metadata": {},
   "outputs": [
    {
     "data": {
      "text/plain": [
       "1267324330972642604625352880344494997303498909084954637288596646008844561272211099560154035838330118983030144761362811958023043116642723117934344210053258358162571290013333099058973872905711757700462708374432548197171444906233745929756809939919781515453046745254593529163109023305769655890181760667706717122052373441991078759576411784524325666570538358162542386295199009099511906403614720000000000000000000000000000000000000000000000000"
      ]
     },
     "execution_count": 55,
     "metadata": {},
     "output_type": "execute_result"
    }
   ],
   "source": [
    "def factorial(n):\n",
    "    if n==1:\n",
    "        return 1\n",
    "    else:\n",
    "        return n*factorial(n-1)\n",
    "    \n",
    "def double_factorial(n):\n",
    "    n = n//2\n",
    "    if n==1:\n",
    "        return 1\n",
    "    else:\n",
    "        return factorial(n)*2**n\n",
    "    \n",
    "double_factorial(400)"
   ]
  },
  {
   "cell_type": "code",
   "execution_count": null,
   "metadata": {
    "collapsed": true
   },
   "outputs": [],
   "source": []
  }
 ],
 "metadata": {
  "kernelspec": {
   "display_name": "Python 3",
   "language": "python",
   "name": "python3"
  },
  "language_info": {
   "codemirror_mode": {
    "name": "ipython",
    "version": 3
   },
   "file_extension": ".py",
   "mimetype": "text/x-python",
   "name": "python",
   "nbconvert_exporter": "python",
   "pygments_lexer": "ipython3",
   "version": "3.6.1"
  }
 },
 "nbformat": 4,
 "nbformat_minor": 2
}
