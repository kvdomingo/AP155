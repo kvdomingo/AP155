{
 "cells": [
  {
   "cell_type": "code",
   "execution_count": 2,
   "metadata": {
    "collapsed": true
   },
   "outputs": [],
   "source": [
    "import numpy as np\n",
    "import numpy.linalg as nla\n",
    "import scipy.constants as sp\n",
    "import matplotlib.pyplot as mp\n",
    "%matplotlib inline"
   ]
  },
  {
   "cell_type": "markdown",
   "metadata": {},
   "source": [
    "## Exercise 6.1: A circuit of resistors\n",
    "\n",
    "All the resistors have the same resistance $R$. The power rail at the top is at voltage $V_+$ = 5 V. What are the other four voltages, $V_1$ to $V_4$? To answer this question we use Ohm’s law and the Kirchhoff current law, which says that\n",
    "the total net current flow out of (or into) any junction in a circuit must be zero. Thus for the junction at voltage $V_1$, for instance, we have\n",
    "\n",
    "\\begin{equation}\n",
    "    \\frac{V_1-V_2}{R} + \\frac{V_1-V_3}{R} + \\frac{V_1-V_4}{R} + \\frac{V_1-V_+}{R} = 0\n",
    "\\end{equation}\n",
    "\n",
    "or equivalently\n",
    "\n",
    "\\begin{equation}\n",
    "    4V_1 - V_2 - V_3 - V_4 = V_+\n",
    "\\end{equation}\n",
    "\n",
    "a) Write similar equations for the other three junctions with unknown voltages.\n",
    "\n",
    "b) Write a program to solve the four resulting equations using Gaussian elimination and hence find the four voltages (or you can modify a program you already have, such as the program gausselim.py in Example 6.1)."
   ]
  },
  {
   "cell_type": "markdown",
   "metadata": {},
   "source": [
    "\\begin{equation}\n",
    "    4V_1 - V_2 - V_3 - V_4 = V_+\n",
    "\\end{equation}\n",
    "\\begin{equation}\n",
    "    -V_1 + 3V_2 - V_4 = V_0\n",
    "\\end{equation}\n",
    "\\begin{equation}\n",
    "    -V_1 + 3V_3 - V_4 = V_+\n",
    "\\end{equation}\n",
    "\\begin{equation}\n",
    "    -V_1 - V_2 - V_3 + 4V_4 = V_0\n",
    "\\end{equation}"
   ]
  },
  {
   "cell_type": "code",
   "execution_count": 20,
   "metadata": {},
   "outputs": [
    {
     "name": "stdout",
     "output_type": "stream",
     "text": [
      "V1 = 3.00 V\n",
      "V2 = 1.67 V\n",
      "V3 = 3.33 V\n",
      "V4 = 2.00 V\n"
     ]
    }
   ],
   "source": [
    "A = np.array([[ 4,  -1,  -1,  -1 ],\n",
    "              [ -1,  3, 0, -1 ],\n",
    "              [ -1, 0,  3,  -1 ],\n",
    "              [ -1, -1,  -1,  4 ]], float)\n",
    "v = np.array([ 5, 0, 5, 0 ], float)\n",
    "N = len(v)\n",
    "\n",
    "# Gaussian elimination\n",
    "for m in range(N):\n",
    "    # Divide by the diagonal element\n",
    "    div = A[m,m]\n",
    "    A[m,:] /= div\n",
    "    v[m] /= div\n",
    "    # Now subtract from the lower rows\n",
    "    for i in range(m+1,N):\n",
    "        mult = A[i,m]\n",
    "        A[i,:] -= mult*A[m,:]\n",
    "        v[i] -= mult*v[m]\n",
    "\n",
    "# Backsubstitution\n",
    "x = np.empty(N,float)\n",
    "for m in range(N-1,-1,-1):\n",
    "    x[m] = v[m]\n",
    "    for i in range(m+1,N):\n",
    "        x[m] -= A[m,i]*x[i]\n",
    "\n",
    "for i in range(len(x)):\n",
    "    vstring = \"V\" + str(i+1)\n",
    "    print(\"%s = %.2f V\" %(vstring, x[i]))"
   ]
  },
  {
   "cell_type": "markdown",
   "metadata": {},
   "source": [
    "## Exercise 6.2:\n",
    "\n",
    "a) Modify the program gausselim.py in Example 6.1 to incorporate partial pivoting (or you can write your own program from scratch if you prefer). Run your program and demonstrate that it gives the same answers as the original program when applied to Eq. (6.1)\n",
    "\n",
    "b) Modify the program to solve the equations in (6.17) and show that it can find the solution to these as well, even though Gaussian elimination without pivoting fails."
   ]
  },
  {
   "cell_type": "markdown",
   "metadata": {},
   "source": [
    "## Exercise 6.3:\n",
    "\n",
    "This exercise invites you to write your own program to solve simultaneous equations using the method of LU decomposition.\n",
    "\n",
    "a) Starting, if you wish, with the program for Gaussian elimination in Example 6.1 on page 218, write a Python function that calculates the LU decomposition of a matrix. The calculation is same as that for Gaussian elimination, except that at each step of the calculation you need to extract the appropriate elements of the matrix and assemble them to form the lower diagonal matrix $L$ of Eq. (6.32). Test your function by calculating the LU decomposition of the matrix from Eq. (6.2), then multiplying the $L$ and $U$ you get and verifying that you recover the original matrix once more.\n",
    "\n",
    "b) Build on your LU decomposition function to create a complete program to solve Eq. (6.2) by performing a double backsubstitution as described in this section. Solve the same equations using the function solve from the numpy package and verify that you get the same answer either way.\n",
    "\n",
    "c) If you’re feeling ambitious, try your hand at LU decompositionwith partial pivoting. Partial pivoting works in the same way for LU decomposition as it does for Gaussian elimination, swapping rows to get the largest diagonal element as explained in Section 6.1.3, but the extension to LU decomposition requires two additional steps. First, every time\n",
    "you swap two rows you also have to swap the same rows in the matrix $L$. Second, when you use your LU decomposition to solve a set of equations $Ax = v$ you will also need to perform the same sequence of swaps on the vector $v$ on the right-hand side. This means you need to record the swaps as you are doing the decomposition so that you can recreate them later. The simplest way to do this is to set up a list or array in which the value of the $i$th element records the row you swapped with on the ith step of the process. For instance, if you swapped the first row with the second then the second with the fourth, the first two elements of the list would be 2 and 4. Solving a set of equations for given $v$ involves first performing the required sequence of swaps on the elements of $v$ then performing a double backsubstitution as usual. (In ordinary Gaussian elimination with pivoting, one swaps the elements of $v$ as the algorithm proceeds, rather than all at once, but the difference has no effect on the results, so it’s fine to perform all the swaps at once if we wish.)\n",
    "\n",
    "Modify the function you wrote for part (a) to perform LU decomposition with partial pivoting. The function should return the matrices $L$ and $U$ for the LU decomposition of the swapped matrix, plus a list of the swaps made. Then modify the rest of your program to solve equations of the form $Ax = v$ using LU decomposition with pivoting. Test your program on the example from Eq. (6.17), which cannot be solved without pivoting because of the zero in the first element of the matrix. Check your results against a solution of the same equations using the solve function from numpy.\n",
    "\n",
    "LU decomposition with partial pivoting is the most widely used method for the solution of simultaneous equations in practice. Precisely this method is used in the function solve from the numpy package. There’s nothing wrong with using the solve function—it’s well written, fast, and convenient. But it does nothing you haven’t already done yourself if you’ve solved this exercise."
   ]
  },
  {
   "cell_type": "code",
   "execution_count": 40,
   "metadata": {},
   "outputs": [
    {
     "name": "stdout",
     "output_type": "stream",
     "text": [
      "A:\n",
      "[[ 2.  1.  4.  1.]\n",
      " [ 3.  4. -1. -1.]\n",
      " [ 1. -4.  1.  5.]\n",
      " [ 2. -2.  1.  3.]]\n",
      "\n",
      "P:\n",
      "[[ 0.  0.  1.  0.]\n",
      " [ 1.  0.  0.  0.]\n",
      " [ 0.  1.  0.  0.]\n",
      " [ 0.  0.  0.  1.]]\n",
      "\n",
      "L:\n",
      "[[ 1.          0.          0.          0.        ]\n",
      " [ 0.33333333  1.          0.          0.        ]\n",
      " [ 0.66666667  0.3125      1.          0.        ]\n",
      " [ 0.66666667  0.875       0.11764706  1.        ]]\n",
      "\n",
      "U:\n",
      "[[ 3.          4.         -1.         -1.        ]\n",
      " [ 0.         -5.33333333  1.33333333  5.33333333]\n",
      " [ 0.          0.          4.25        0.        ]\n",
      " [ 0.          0.          0.         -1.        ]]\n",
      "\n",
      "PA:\n",
      "[[ 1. -4.  1.  5.]\n",
      " [ 2.  1.  4.  1.]\n",
      " [ 3.  4. -1. -1.]\n",
      " [ 2. -2.  1.  3.]]\n",
      "\n",
      "LU:\n",
      "[[ 3.  4. -1. -1.]\n",
      " [ 1. -4.  1.  5.]\n",
      " [ 2.  1.  4.  1.]\n",
      " [ 2. -2.  1.  3.]]\n"
     ]
    }
   ],
   "source": [
    "A = np.array([[ 2,  1,  4,  1 ],\n",
    "              [ 3,  4, -1, -1 ],\n",
    "              [ 1, -4,  1,  5 ],\n",
    "              [ 2, -2,  1,  3 ]], float)\n",
    "P, L, U = sla.lu(A)\n",
    "print(\"A:\")\n",
    "print(A)\n",
    "print(\"\\nP:\")\n",
    "print(P)\n",
    "print(\"\\nL:\")\n",
    "print(L)\n",
    "print(\"\\nU:\")\n",
    "print(U)\n",
    "print(\"\\nPA:\")\n",
    "print(np.dot(P,A))\n",
    "print(\"\\nLU:\")\n",
    "print(np.dot(L,U))"
   ]
  },
  {
   "cell_type": "markdown",
   "metadata": {},
   "source": [
    "<b>Exercise 6.8</b>\n",
    "\n",
    "a) Write a python function that takes as its argument a real square matrix A and returns two matrices Q and R that form its QR decomposition\n",
    "\n",
    "b) Implement the QR algorithm to calculate the eigenvalues and eigenvectors. Continue calculating until the magnitude of all off-diagonal element is less than $10^{-6}$."
   ]
  },
  {
   "cell_type": "code",
   "execution_count": 72,
   "metadata": {},
   "outputs": [
    {
     "name": "stdout",
     "output_type": "stream",
     "text": [
      "[ 21.  -8.  -3.   1.]\n"
     ]
    }
   ],
   "source": [
    "def decomp(A):\n",
    "    N = len(A)\n",
    "    Q = np.zeros([N,N], dtype=float)\n",
    "    R = np.zeros([N,N], dtype=float)\n",
    "    \n",
    "    for i in range(N):\n",
    "        summation = 0\n",
    "        for j in range(i):\n",
    "            qa = np.dot(Q[:,j], A[:,i])\n",
    "            summation += qa*Q[:,j]\n",
    "            R[j,i] = qa\n",
    "        u = A[:,i] - summation\n",
    "        unorm = nla.norm(u)\n",
    "        q = u/unorm\n",
    "        \n",
    "        Q[:,i] = q\n",
    "        R[i,i] = unorm\n",
    "    return (Q,R)\n",
    "\n",
    "A = np.array([\n",
    "    [1, 4, 8, 4],\n",
    "    [4, 2, 3, 7],\n",
    "    [8, 3, 6, 9],\n",
    "    [4, 7, 9, 2],\n",
    "], dtype=float)\n",
    "\n",
    "N = len(A)\n",
    "V = np.identity(N)\n",
    "epsilon = 1e-6\n",
    "offdiag = np.logical_not(np.identity(N))\n",
    "while (np.abs(A*offdiag) < epsilon).all() == False:\n",
    "    Q,R = decomp(A)\n",
    "    A = np.dot(R,Q)\n",
    "    V = np.dot(V,Q)\n",
    "    \n",
    "print(np.diagonal(A))"
   ]
  },
  {
   "cell_type": "markdown",
   "metadata": {},
   "source": [
    "## Exercise 6.9: Asymmetric quantum well\n"
   ]
  },
  {
   "cell_type": "code",
   "execution_count": 67,
   "metadata": {
    "collapsed": true
   },
   "outputs": [],
   "source": [
    "def V(x):\n",
    "    L = 5e-10\n",
    "    for m in range(11):\n",
    "        for n in range(11):\n",
    "            pot = x*np.sin(np.pi*m*x/L)*np.sin(np.pi*n*x/L)\n",
    "    return pot\n"
   ]
  },
  {
   "cell_type": "markdown",
   "metadata": {},
   "source": [
    "<b>Exercise 6.10:</b>\n",
    "\n",
    "Consider the equation $x = 1 − e^{−cx}$, where $c$ is a known parameter and $x$ is unknown. This equation arises in a variety of situations, including the physics of contact processes, mathematical models of epidemics, and the theory of random graphs.\n",
    "\n",
    "a) Write a program to solve this equation for $x$ using the relaxation method for the case $c = 2$. Calculate your solution to an accuracy of at least $10^{−6}$.\n",
    "\n",
    "b) Modify your program to calculate the solution for values of $c$ from 0 to 3 in steps of 0.01 and make a plot of $x$ as a function of $c$. You should see a clear transition from a regime in which $x$ = 0 to a regime of nonzero $x$. This is another example of a phase transition. In physics this transition is known as the percolation transition; in epidemiology it is the epidemic threshold."
   ]
  },
  {
   "cell_type": "code",
   "execution_count": 12,
   "metadata": {},
   "outputs": [
    {
     "data": {
      "text/plain": [
       "0.79681263111184575"
      ]
     },
     "execution_count": 12,
     "metadata": {},
     "output_type": "execute_result"
    }
   ],
   "source": [
    "def relax(acc):\n",
    "    relaxlist = []\n",
    "    x = 1.\n",
    "    xprev = 1.\n",
    "    err = 1.\n",
    "    while err > acc:\n",
    "        x = 1 - np.exp(-2*x)\n",
    "        err = (abs(x-xprev))/xprev\n",
    "        relaxlist.append(x)\n",
    "        xprev = x\n",
    "    return relaxlist[-1]\n",
    "\n",
    "relax(1e-6)"
   ]
  },
  {
   "cell_type": "code",
   "execution_count": 50,
   "metadata": {},
   "outputs": [
    {
     "name": "stderr",
     "output_type": "stream",
     "text": [
      "C:\\ProgramData\\Anaconda3\\lib\\site-packages\\ipykernel_launcher.py:9: RuntimeWarning: invalid value encountered in double_scalars\n",
      "  if __name__ == '__main__':\n"
     ]
    },
    {
     "data": {
      "image/png": "[encoded data removed]",
      "text/plain": [
       "<matplotlib.figure.Figure at 0x23ca2821b38>"
      ]
     },
     "metadata": {},
     "output_type": "display_data"
    }
   ],
   "source": [
    "def relax_mod(c):\n",
    "    relaxlist = []\n",
    "    x = 1.\n",
    "    xprev = 1.\n",
    "    err = 1.\n",
    "    acc = 1e-6\n",
    "    while err > acc:\n",
    "        x = 1 - np.exp(-c*x)\n",
    "        err = (abs(x-xprev))/xprev\n",
    "        relaxlist.append(x)\n",
    "        xprev = x\n",
    "    return relaxlist[-1]\n",
    "\n",
    "x = np.arange(0.,3.1,0.1)\n",
    "y = []\n",
    "for c in x:\n",
    "    y.append(relax_mod(c))\n",
    "mp.plot(x,y)\n",
    "mp.xlabel(\"$c$\")\n",
    "mp.ylabel(\"$x$\")\n",
    "mp.title(\"6.10 Percolation transition\")\n",
    "mp.show()"
   ]
  },
  {
   "cell_type": "markdown",
   "metadata": {},
   "source": [
    "<b>Exercise 6.11: Overrelaxation</b>\n",
    "\n",
    "a) Derive an equivalent of Eq. (6.81) for the overrelaxation method and hence show that the error on $x′$, the equivalent of Eq. (6.83), is given by\n",
    "\n",
    "\\begin{equation}\n",
    "    \\epsilon ' \\approx \\frac{x-x'}{1-\\frac{1}{(1+\\omega)f'(x)-\\omega}}\n",
    "\\end{equation}\n",
    "\n",
    "b) Consider again the equation $x = 1 − e^{−cx}$ that we solved in Exercise 6.10. Take the program you wrote for part (a) of that exercise, which solved the equation for the case $c$ = 2, and modify it to print out the number of iterations it takes to converge to a solution accurate to $10^{−6}$.\n",
    "\n",
    "\n",
    "c) Now write a new program (or modify the previous one) to solve the same equation $x = 1 − e^{−cx}$ for $c$ = 2, again to an accuracy of $10^{−6}$, but this time using overrelaxation. Have your program print out the answers it finds along with the number of iterations it took to find them. Experiment with different values of ω to see how fast you can get the method to converge. A value of $\\omega$ = 0.5 is a reasonable starting point. With some trial and error you should be able to get the calculation to converge about twice as fast as the simple relaxation method, i.e., in about half as many iterations.\n",
    "\n",
    "d) Are there any circumstances under which using a value $\\omega$ < 0 would help us find a solution faster than we can with the ordinary relaxation method? (Hint: The answer is yes, but why?)"
   ]
  },
  {
   "cell_type": "code",
   "execution_count": 71,
   "metadata": {},
   "outputs": [
    {
     "name": "stdout",
     "output_type": "stream",
     "text": [
      "Number of iterations: 14\n"
     ]
    }
   ],
   "source": [
    "def relax_iter(c):\n",
    "    relaxlist = []\n",
    "    x = 1.\n",
    "    xprev = 1.\n",
    "    err = 1.\n",
    "    acc = 1e-6\n",
    "    while err > acc:\n",
    "        x = 1 - np.exp(-c*x)\n",
    "        err = (abs(x-xprev))/xprev\n",
    "        relaxlist.append(x)\n",
    "        xprev = x\n",
    "    return print(\"Number of iterations:\",len(relaxlist))\n",
    "relax_iter(2)"
   ]
  },
  {
   "cell_type": "code",
   "execution_count": 103,
   "metadata": {},
   "outputs": [
    {
     "name": "stdout",
     "output_type": "stream",
     "text": [
      "Final value of x = 0.796812372983\n",
      "Number of iterations = 4\n"
     ]
    }
   ],
   "source": [
    "def f(x):\n",
    "    return 1 - np.exp(-2*x)\n",
    "\n",
    "def df(x):\n",
    "    return 2*np.exp(-2*x)\n",
    "\n",
    "def overrelax(w):\n",
    "    relaxlist = []\n",
    "    x = 1.\n",
    "    xprev = 1.\n",
    "    err = 1.\n",
    "    acc = 1e-6\n",
    "    while err > acc:\n",
    "        Dx = f(x) - x\n",
    "        x = x + (1 + w)*Dx\n",
    "        err = abs((xprev - x)/(1-1/((1+w)*df(x)-w)))\n",
    "        relaxlist.append(x)\n",
    "        xprev = x\n",
    "    print(\"Final value of x =\", relaxlist[-1])\n",
    "    print(\"Number of iterations =\", len(relaxlist))\n",
    "\n",
    "overrelax(0.5)"
   ]
  },
  {
   "cell_type": "markdown",
   "metadata": {},
   "source": [
    "<b>Exercise 6.14:</b>\n",
    "\n",
    "Consider a square potential well of width $w$, with walls of height $V$.\n",
    "\n",
    "a) For an electron (mass 9.1094 $\\times$ $10^{−31}$ kg) in a well with $V$ = 20 eV and $w$ = 1 nm, write a Python program to plot the three quantities\n",
    "\n",
    "\\begin{equation}\n",
    "        y_1 = \\tan \\sqrt{\\frac{w^2 mE}{2\\hbar^2}}\n",
    "\\end{equation}\n",
    "\\begin{equation}\n",
    "        y_2 = \\sqrt{\\frac{V-E}{E}}\n",
    "\\end{equation}\n",
    "\\begin{equation}\n",
    "        y_3 = -\\sqrt{\\frac{E}{V-E}}\n",
    "\\end{equation}\n",
    "\n",
    "on the same graph, as a function of $E$ from $E$ = 0 to $E$ = 20 eV. From your plot make approximate estimates of the energies of the first six energy levels of the particle.\n",
    "\n",
    "b) Write a second program to calculate the values of the first six energy levels in electron volts to an accuracy of 0.001 eV using binary search."
   ]
  },
  {
   "cell_type": "code",
   "execution_count": 137,
   "metadata": {},
   "outputs": [
    {
     "name": "stderr",
     "output_type": "stream",
     "text": [
      "C:\\ProgramData\\Anaconda3\\lib\\site-packages\\ipykernel_launcher.py:8: RuntimeWarning: divide by zero encountered in true_divide\n",
      "  \n",
      "C:\\ProgramData\\Anaconda3\\lib\\site-packages\\ipykernel_launcher.py:11: RuntimeWarning: divide by zero encountered in true_divide\n",
      "  # This is added back by InteractiveShellApp.init_path()\n"
     ]
    },
    {
     "data": {
      "image/png": "[encoded data removed]",
      "text/plain": [
       "<matplotlib.figure.Figure at 0x23ca23494a8>"
      ]
     },
     "metadata": {},
     "output_type": "display_data"
    }
   ],
   "source": [
    "V = 20\n",
    "w = 1e-9\n",
    "\n",
    "def y1(E):\n",
    "    return np.tan(np.sqrt(w*w*sp.electron_mass*E/(2*sp.hbar**2)))\n",
    "\n",
    "def y2(E):\n",
    "    return np.sqrt((V-E)/E)\n",
    "\n",
    "def y3(E):\n",
    "    return -np.sqrt(E/(V-E))\n",
    "\n",
    "E = np.linspace(0,20,1000)\n",
    "mp.plot(E,y1(E), \"c\", label=\"$y_1$\")\n",
    "mp.plot(E,y2(E), \"r\", label=\"$y_2$\")\n",
    "mp.plot(E,y3(E), color=\"yellow\", label=\"$y_3$\")\n",
    "mp.xlabel(\"$E$\")\n",
    "mp.ylabel(\"$y$\")\n",
    "mp.ylim(-20,20)\n",
    "mp.legend()\n",
    "mp.show()"
   ]
  },
  {
   "cell_type": "code",
   "execution_count": null,
   "metadata": {
    "collapsed": true
   },
   "outputs": [],
   "source": []
  }
 ],
 "metadata": {
  "kernelspec": {
   "display_name": "Python 3",
   "language": "python",
   "name": "python3"
  },
  "language_info": {
   "codemirror_mode": {
    "name": "ipython",
    "version": 3
   },
   "file_extension": ".py",
   "mimetype": "text/x-python",
   "name": "python",
   "nbconvert_exporter": "python",
   "pygments_lexer": "ipython3",
   "version": "3.6.8"
  },
  "latex_envs": {
   "LaTeX_envs_menu_present": true,
   "autoclose": true,
   "autocomplete": true,
   "bibliofile": "biblio.bib",
   "cite_by": "apalike",
   "current_citInitial": 1,
   "eqLabelWithNumbers": true,
   "eqNumInitial": 1,
   "hotkeys": {
    "equation": "Ctrl-E",
    "itemize": "Ctrl-I"
   },
   "labels_anchors": false,
   "latex_user_defs": false,
   "report_style_numbering": false,
   "user_envs_cfg": false
  },
  "varInspector": {
   "cols": {
    "lenName": 16,
    "lenType": 16,
    "lenVar": 40
   },
   "kernels_config": {
    "python": {
     "delete_cmd_postfix": "",
     "delete_cmd_prefix": "del ",
     "library": "var_list.py",
     "varRefreshCmd": "print(var_dic_list())"
    },
    "r": {
     "delete_cmd_postfix": ") ",
     "delete_cmd_prefix": "rm(",
     "library": "var_list.r",
     "varRefreshCmd": "cat(var_dic_list()) "
    }
   },
   "types_to_exclude": [
    "module",
    "function",
    "builtin_function_or_method",
    "instance",
    "_Feature"
   ],
   "window_display": false
  }
 },
 "nbformat": 4,
 "nbformat_minor": 2
}
