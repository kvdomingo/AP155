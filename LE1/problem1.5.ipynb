{
 "cells": [
  {
   "cell_type": "markdown",
   "metadata": {},
   "source": [
    "<h1>App Physics 155 - LE 1</h1>\n",
    "<h2>Kenneth V. Domingo<br />\n",
    "2015-03116</h2>"
   ]
  },
  {
   "cell_type": "markdown",
   "metadata": {},
   "source": [
    "<b>Problem 1.5: Quadratic equations</b>\n",
    "\n",
    "a) Write a program that takes as input three numbers, $a$, $b$, and $c$, and prints out the two solutions to the quadratic equation $ax^2 + bx + c = 0$ using the standard formula\n",
    "\n",
    "\\begin{equation}\n",
    "    x = \\frac{-b \\pm \\sqrt{b^2 - 4ac}}{2a}\n",
    "\\end{equation}\n",
    "\n",
    "Use your program to compute the solutions of $0.001x^2 + 3000x + 0.003 = 0$."
   ]
  },
  {
   "cell_type": "code",
   "execution_count": 1,
   "metadata": {},
   "outputs": [],
   "source": [
    "from numpy import sqrt\n",
    "\n",
    "def quada(a,b,c):\n",
    "    x1 = (-b + sqrt(b**2 - 4*a*c))/(2*a)\n",
    "    x2 = (-b - sqrt(b**2 - 4*a*c))/(2*a)\n",
    "    print(\"Solution 1:\", x1)\n",
    "    print(\"Solution 2:\", x2)"
   ]
  },
  {
   "cell_type": "code",
   "execution_count": 2,
   "metadata": {},
   "outputs": [
    {
     "name": "stdout",
     "output_type": "stream",
     "text": [
      "Solution 1: -9.99989424599e-07\n",
      "Solution 2: -3000000.0\n"
     ]
    }
   ],
   "source": [
    "quada(0.001,3000,0.003)"
   ]
  },
  {
   "cell_type": "markdown",
   "metadata": {},
   "source": [
    "b) There is another way to write the solutions to a quadratic equation. Multiplying top and bottom of the solution above by $−b \\mp \\sqrt{b2 − 4ac}$, show that the solutions can also be written as\n",
    "\n",
    "\\begin{equation}\n",
    "    x = \\frac{2c}{-b \\mp \\sqrt{b^2 - 4ac}}\n",
    "\\end{equation}\n",
    "\n",
    "Add further lines to your program to print out these values in addition to the earlier ones and again use the program to solve $0.001x^2 + 3000x + 0.003 = 0$. What do you see? How do you explain it?"
   ]
  },
  {
   "cell_type": "code",
   "execution_count": 3,
   "metadata": {
    "collapsed": true
   },
   "outputs": [],
   "source": [
    "def quadb(a,b,c):\n",
    "    x1 = (2*c)/(-b - sqrt(b**2 - 4*a*c))\n",
    "    x2 = (2*c)/(-b + sqrt(b**2 - 4*a*c))\n",
    "    print(\"Solution 1:\", x1)\n",
    "    print(\"Solution 2:\", x2)"
   ]
  },
  {
   "cell_type": "code",
   "execution_count": 4,
   "metadata": {},
   "outputs": [
    {
     "name": "stdout",
     "output_type": "stream",
     "text": [
      "Solution 1: -1e-06\n",
      "Solution 2: -3000031.72654\n"
     ]
    }
   ],
   "source": [
    "quadb(0.001,3000,0.003)"
   ]
  },
  {
   "cell_type": "markdown",
   "metadata": {},
   "source": [
    "The discrepancy is caused because of the subtraction of a large number $b^2$ and a very small number $4ac$."
   ]
  },
  {
   "cell_type": "markdown",
   "metadata": {},
   "source": [
    "c) Using what you have learned, write a new program that calculates both roots of a quadratic equation accurately in all cases."
   ]
  },
  {
   "cell_type": "markdown",
   "metadata": {},
   "source": [
    "For $b^2 - 4ac = 0$,\n",
    "\n",
    "\\begin{equation}\n",
    "    x = -\\frac{b}{2a}\n",
    "\\end{equation}\n",
    "\n",
    "For $b^2 - 4ac > 0$,\n",
    "\n",
    "\\begin{equation}\n",
    "    b^2 > 4ac \\approx b^2\n",
    "\\end{equation}\n",
    "\n",
    "\\begin{equation}\n",
    "    x = \\frac{-b \\pm b}{2a}\n",
    "\\end{equation}\n",
    "\n",
    "\\begin{equation}\n",
    "    x = -\\frac{b}{a}\n",
    "\\end{equation}\n",
    "\n",
    "For $b^2 - 4ac < 0$,\n",
    "\n",
    "\\begin{equation}\n",
    "    b^2 < 4a \\approx 4a\n",
    "\\end{equation}\n",
    "\n",
    "\\begin{equation}\n",
    "    x = \\frac{-b \\pm 4a}{2a} = -\\frac{b}{2a} + 2\n",
    "\\end{equation}"
   ]
  },
  {
   "cell_type": "code",
   "execution_count": 11,
   "metadata": {},
   "outputs": [],
   "source": [
    "def quadc(a,b,c):\n",
    "    discr = b**2 - 4*a*c\n",
    "    if discr == 0:\n",
    "        x = -b/(2*a)\n",
    "        print(\"Solution 1:\", x)\n",
    "        print(\"Solution 2:\", x)\n",
    "    elif discr > 0:\n",
    "        x = -b/a\n",
    "        print(\"Solution 1: 0\")\n",
    "        print(\"Solution 2:\", x)\n",
    "    else:\n",
    "        x1 = -b/(2*a) + 2\n",
    "        x2 = -b/(2*a) - 2\n",
    "        print(\"Solution 1:\", x1)\n",
    "        print(\"Solution 2:\", x2)"
   ]
  },
  {
   "cell_type": "code",
   "execution_count": 12,
   "metadata": {},
   "outputs": [
    {
     "name": "stdout",
     "output_type": "stream",
     "text": [
      "Solution 1: 0\n",
      "Solution 2: -3000000.0\n"
     ]
    }
   ],
   "source": [
    "quadc(0.001,3000,0.003)"
   ]
  },
  {
   "cell_type": "code",
   "execution_count": null,
   "metadata": {
    "collapsed": true
   },
   "outputs": [],
   "source": []
  }
 ],
 "metadata": {
  "kernelspec": {
   "display_name": "Python 3",
   "language": "python",
   "name": "python3"
  },
  "language_info": {
   "codemirror_mode": {
    "name": "ipython",
    "version": 3
   },
   "file_extension": ".py",
   "mimetype": "text/x-python",
   "name": "python",
   "nbconvert_exporter": "python",
   "pygments_lexer": "ipython3",
   "version": "3.6.1"
  }
 },
 "nbformat": 4,
 "nbformat_minor": 2
}
