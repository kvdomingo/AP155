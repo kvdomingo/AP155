{
 "cells": [
  {
   "cell_type": "markdown",
   "metadata": {},
   "source": [
    "<h1>App Physics 155 - LE 1</h1>\n",
    "<h2>Kenneth V. Domingo<br />\n",
    "2015-03116</h2>"
   ]
  },
  {
   "cell_type": "markdown",
   "metadata": {},
   "source": [
    "<b>Problem 1.3: Recursion</b><br />\n",
    "A useful feature of user-defined functions is recursion, the ability of a function to call itself. For example, consider the following definition of the factorial $n!$ of a positive integer $n$:\n",
    "\n",
    "\\begin{equation}\n",
    "    n! = \n",
    "    \\begin{array}{cc}\n",
    "    \\Bigg\\{ &\n",
    "        \\begin{array}{cc}\n",
    "            1 & n = 1 \\\\\n",
    "            n \\times (n-1)! & n > 1\n",
    "        \\end{array}\n",
    "    \\end{array}\n",
    "\\end{equation}\n",
    "\n",
    "This constitutes a complete definition of the factorial which allows us to calculate the value of $n!$ for any positive integer. We can employ this definition directly to create a Python function for factorials.\n",
    "\n",
    "a) We encountered the Catalan numbers $C_n$ previously in Exercise 2.7 on page 46. With just a little rearrangement, the definition given there can be rewritten in the form\n",
    "\n",
    "\\begin{equation}\n",
    "    n! = \n",
    "    \\begin{array}{cc}\n",
    "    \\Bigg\\{ &\n",
    "        \\begin{array}{cc}\n",
    "            1 & n = 0 \\\\\n",
    "            \\frac{4n-2}{n+1}C_{n-1} & n > 0\n",
    "        \\end{array}\n",
    "    \\end{array}\n",
    "\\end{equation}\n",
    "\n",
    "Write a Python function, using recursion, that calculates $C_n$. Use your function to calculate and print $C_{100}$."
   ]
  },
  {
   "cell_type": "code",
   "execution_count": 50,
   "metadata": {},
   "outputs": [
    {
     "name": "stdout",
     "output_type": "stream",
     "text": [
      "The 100th Catalan number is 896519947090131496687170070074100632420837521538745909320\n"
     ]
    }
   ],
   "source": [
    "def catalan(n):\n",
    "    if n == 0:\n",
    "        return 1\n",
    "    else:\n",
    "        Cn = (4*n - 2)*catalan(n-1)//(n+1)\n",
    "        return Cn\n",
    "    \n",
    "print(\"The 100th Catalan number is\", catalan(100))"
   ]
  },
  {
   "cell_type": "markdown",
   "metadata": {},
   "source": [
    "b) Euclid showed that the greatest common divisor $g(m, n)$ of two nonnegative integers $m$ and $n$ satisfies\n",
    "\n",
    "\\begin{equation}\n",
    "    n! = \n",
    "    \\begin{array}{cc}\n",
    "    \\Bigg\\{ &\n",
    "        \\begin{array}{cc}\n",
    "            m & n = 0 \\\\\n",
    "            g(n,m \\text{ mod } n) & n > 0\n",
    "        \\end{array}\n",
    "    \\end{array}\n",
    "\\end{equation}\n",
    "\n",
    "Write a Python function $g(m,n)$ that employs recursion to calculate the greatest common divisor of $m$ and $n$ using this formula. Use your function to calculate and print the greatest common divisor of 108 and 192.\n",
    "\n",
    "In most cases, if a quantity can be calculated without recursion, then it will be faster to do\n",
    "so, and we normally recommend taking this route if possible. There are some calculations,\n",
    "however, that are essentially impossible (or at least much more difficult) without recursion."
   ]
  },
  {
   "cell_type": "code",
   "execution_count": 52,
   "metadata": {},
   "outputs": [
    {
     "name": "stdout",
     "output_type": "stream",
     "text": [
      "The greatest common divisor of 108 & 192 is 12\n"
     ]
    }
   ],
   "source": [
    "def gcd(m,n):\n",
    "    if n == 0:\n",
    "        return m\n",
    "    else:\n",
    "        return gcd(n,m%n)\n",
    "    \n",
    "print(\"The greatest common divisor of 108 & 192 is\", gcd(108,192))"
   ]
  }
 ],
 "metadata": {
  "kernelspec": {
   "display_name": "Python 3",
   "language": "python",
   "name": "python3"
  },
  "language_info": {
   "codemirror_mode": {
    "name": "ipython",
    "version": 3
   },
   "file_extension": ".py",
   "mimetype": "text/x-python",
   "name": "python",
   "nbconvert_exporter": "python",
   "pygments_lexer": "ipython3",
   "version": "3.6.1"
  }
 },
 "nbformat": 4,
 "nbformat_minor": 2
}
