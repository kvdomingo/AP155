{
 "cells": [
  {
   "cell_type": "markdown",
   "metadata": {},
   "source": [
    "<h1>App Physics 155 - LE 1</h1>\n",
    "<h2>Kenneth V. Domingo<br />\n",
    "2015-03116</h2>"
   ]
  },
  {
   "cell_type": "markdown",
   "metadata": {},
   "source": [
    "<b>Problem 1.1: Quantum potential step</b><br />\n",
    "A well-known quantum mechanics problem involves a particle of mass m that encounters a\n",
    "one-dimensional potential step. The particle with initial kinetic energy $E$ and wavevector $k_1 = \\sqrt{2mE}/\\hbar$ enters from the left and encounters a sudden jump in potential energy of height $V$ at position $x = 0$. By solving the Schr\\\"{o}dinger equation, one can show that when $E > V$, the particle may either (a) pass the step, in which case it has a lower kinetic energy of $E − V$ on the other side and a correspondingly smaller wavevector of $k_2 = \\sqrt{2m(E − V)}/\\hbar$, or (b) it may be reflected, keeping all of its kinetic energy and an unchanged wavevector but moving in the opposite direction. The probabilities $T$ and $R$ for transmission and reflection are given by:\n",
    "\n",
    "\\begin{equation}\n",
    "    T = \\frac{4k_1k_2}{(k_1+k_2)^2}\n",
    "\\end{equation}\n",
    "\n",
    "\\begin{equation}\n",
    "    R = \\Bigg(\\frac{k_1-k_2}{k_1+k_2}\\Bigg)^2\n",
    "\\end{equation}\n",
    "\n",
    "Suppose we have a particle with mass equal to the electron mass $m = 9.11 \\times 10^{−31}$ kg and energy 10 eV encountering a potential step of height 9 eV. Write a Python program to compute and print out the transmission and reflection probabilities using the formulas above."
   ]
  },
  {
   "cell_type": "code",
   "execution_count": 10,
   "metadata": {},
   "outputs": [
    {
     "name": "stdout",
     "output_type": "stream",
     "text": [
      "Transmission probability:  0.7301261363877616\n",
      "Reflection probability:  0.26987386361223836\n",
      "\n",
      "Total:  1.0\n"
     ]
    }
   ],
   "source": [
    "from scipy.constants import hbar, electron_mass\n",
    "from math import sqrt\n",
    "\n",
    "E = 10\n",
    "V = 9\n",
    "\n",
    "k1 = sqrt(2*electron_mass*E)/hbar\n",
    "k2 = sqrt(2*electron_mass*(E-V))/hbar\n",
    "T = (4*k1*k2)/(k1+k2)**2\n",
    "R = ((k1-k2)/(k1+k2))**2\n",
    "\n",
    "print(\"Transmission probability: \", T)\n",
    "print(\"Reflection probability: \", R)\n",
    "print(\"\\nTotal: \", T+R)"
   ]
  },
  {
   "cell_type": "code",
   "execution_count": null,
   "metadata": {
    "collapsed": true
   },
   "outputs": [],
   "source": []
  }
 ],
 "metadata": {
  "kernelspec": {
   "display_name": "Python 3",
   "language": "python",
   "name": "python3"
  },
  "language_info": {
   "codemirror_mode": {
    "name": "ipython",
    "version": 3
   },
   "file_extension": ".py",
   "mimetype": "text/x-python",
   "name": "python",
   "nbconvert_exporter": "python",
   "pygments_lexer": "ipython3",
   "version": "3.6.1"
  }
 },
 "nbformat": 4,
 "nbformat_minor": 2
}
