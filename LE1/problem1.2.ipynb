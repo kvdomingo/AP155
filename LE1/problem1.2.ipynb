{
 "cells": [
  {
   "cell_type": "markdown",
   "metadata": {},
   "source": [
    "<h1>App Physics 155 - LE 1</h1>\n",
    "<h2>Kenneth V. Domingo<br />\n",
    "2015-03116</h2>"
   ]
  },
  {
   "cell_type": "markdown",
   "metadata": {},
   "source": [
    "<b>Problem 1.2: The Madelung constant</b><br />\n",
    "In condensed matter physics the Madelung constant gives the total electric potential felt by an atom in a solid. It depends on the charges on the other atoms nearby and their locations. Consider for instance solid sodium chloride—table salt. The sodium chloride crystal has atoms arranged on a cubic lattice, but with alternating sodium and chlorine atoms, the sodium ones having a single positive charge $+e$ and the chlorine ones a single negative charge $−e$, where $e$ is the charge on the electron. If we label each position on the lattice by three integer coordinates $(i, j, k)$, then the sodium atoms fall at positions where $i + j + k$ is even, and the chlorine atoms at positions where $i + j + k$ is odd. Consider a sodium atom at the origin, $i = j = k = 0$, and let us calculate the Madelung constant. If the spacing of atoms on the lattice is $a$, then the distance from the origin to the atom at position $(i, j, k)$ is\n",
    "\n",
    "\\begin{equation}\n",
    "    \\sqrt{(ia)^2+(ja)^2+(ka)^2} = a\\sqrt{i^2+j^2+k^2}\n",
    "\\end{equation}\n",
    "\n",
    "and the potential at the origin created by such an atom is\n",
    "\n",
    "\\begin{equation}\n",
    "    V(i,j,k) = \\pm \\frac{e}{4\\pi\\epsilon_0a\\sqrt{i^2+j^2+k^2}}\n",
    "\\end{equation}\n",
    "\n",
    "with $\\epsilon_0$ being the permittivity of the vacuum and the sign of the expression depending on whether $i + j + k$ is even or odd. The total potential felt by the sodium atom is then the sum of this quantity over all other atoms. Let us assume a cubic box around the sodium at the origin, with $L$ atoms in all directions. Then\n",
    "\n",
    "\\begin{equation}\n",
    "    V_{total} = \\sum_{i,j,k = -L}^{L} V(i,j,k) = \\frac{e}{4\\pi\\epsilon_0a}M\n",
    "\\end{equation}\n",
    "\n",
    "where $M$ is the Madelung constant, at least approximately — technically the Madelung constant is the value of $M$ when $L \\rightarrow \\infty$, but one can get a good approximation just by using a large value of $L$. Write a program to calculate and print the Madelung constant for sodium chloride. Use as large a value of $L$ as you can, while still having your program run in reasonable time — say in a minute or less."
   ]
  },
  {
   "cell_type": "code",
   "execution_count": 1,
   "metadata": {},
   "outputs": [
    {
     "name": "stdout",
     "output_type": "stream",
     "text": [
      "The Madelung constant of NaCl is  -1.7418198158396654\n"
     ]
    }
   ],
   "source": [
    "from math import sqrt\n",
    "\n",
    "M = 0.0\n",
    "L = 100\n",
    "\n",
    "for i in range(-L,L+1):\n",
    "    for j in range(-L,L+1):\n",
    "        for k in range(-L,L+1):\n",
    "            if i==j==k==0:\n",
    "                continue\n",
    "            else:\n",
    "                M += (-1)**(i+j+k)/sqrt(i**2 + j**2 + k**2)\n",
    "\n",
    "print(\"The Madelung constant of NaCl is \", M)"
   ]
  },
  {
   "cell_type": "code",
   "execution_count": null,
   "metadata": {
    "collapsed": true
   },
   "outputs": [],
   "source": []
  }
 ],
 "metadata": {
  "kernelspec": {
   "display_name": "Python 3",
   "language": "python",
   "name": "python3"
  },
  "language_info": {
   "codemirror_mode": {
    "name": "ipython",
    "version": 3
   },
   "file_extension": ".py",
   "mimetype": "text/x-python",
   "name": "python",
   "nbconvert_exporter": "python",
   "pygments_lexer": "ipython3",
   "version": "3.6.1"
  }
 },
 "nbformat": 4,
 "nbformat_minor": 2
}
