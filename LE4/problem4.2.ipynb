{
 "cells": [
  {
   "cell_type": "markdown",
   "metadata": {},
   "source": [
    "<h1>App Physics 155 - LE 4</h1>\n",
    "<h2>Kenneth V. Domingo<br />\n",
    "2015-03116</h2>"
   ]
  },
  {
   "cell_type": "markdown",
   "metadata": {},
   "source": [
    "<b>Problem 4.2: Brownian motion</b>\n",
    "\n",
    "Brownian motion is the motion of a particle, such as a smoke or dust particle, in a gas, as it is buffeted by random collisions with gas molecules. Make a simple computer simulation of such a particle in two dimensions as follows. The particle is confined to a square grid or lattice $L\\times L$ squares on a side, so that its position can be represented by two integers $i$, $j = 0 . . . L − 1$. It starts in the middle of the grid. On each step of the simulation, choose a random direction — up, down, left, or right — and move the particle one step in that direction. This process is called a random walk. The particle is not allowed to move outside the limits of the lattice — if it tries to do so, choose a new random direction to move in.\n",
    "\n",
    "Write a program to perform a million steps of this process on a lattice with $L$ = 101 and make an animation on the screen of the position of the particle. (We choose an odd length for the side of the square so that there is one lattice site exactly in the center.)\n",
    "\n",
    "Check the example at https://matplotlib.org/examples/animation/dynamic_image2.html for matplotlib-based animations."
   ]
  },
  {
   "cell_type": "code",
   "execution_count": 1,
   "metadata": {},
   "outputs": [],
   "source": [
    "import numpy as np\n",
    "import numpy.random as rand\n",
    "import matplotlib.pyplot as mp\n",
    "import matplotlib.animation as anim\n",
    "import time"
   ]
  },
  {
   "cell_type": "code",
   "execution_count": 2,
   "metadata": {
    "collapsed": true
   },
   "outputs": [],
   "source": [
    "def g(i,j):\n",
    "    a = rand.randint(1,5)\n",
    "    if a == 1:\n",
    "        if i == (L-1): #checks if particle hit right wall\n",
    "            g(i,j) #if True, choose another direction\n",
    "        else:\n",
    "            if brn[i+1,j] == 1: #checks if particle already passed through gridpoint on the right\n",
    "                brn[i+1,j] = 2 #if True, set gridpoint on left to \"2\"\n",
    "            else:\n",
    "                brn[i+1,j] = 1 #sets gridpoint to left to \"2\" if the gridpoint on left is initially \"0\" (have not passed through yet) or \"1\" (have passed through an odd number of times)\n",
    "            i += 1 #update current particle position\n",
    "    elif a == 2:\n",
    "        if i == 0: #same args\n",
    "            g(i,j)\n",
    "        else:\n",
    "            if brn[i-1,j] == 1:\n",
    "                brn[i-1,j] = 2\n",
    "            else:\n",
    "                brn[i-1,j] = 1\n",
    "            i -= 1\n",
    "    elif a == 3:\n",
    "        if j == (L-1): #same args\n",
    "            g(i,j)\n",
    "        else:\n",
    "            if brn[i,j+1] == 1:\n",
    "                brn[i,j+1] = 2\n",
    "            else:\n",
    "                brn[i,j+1] = 1\n",
    "            j += 1\n",
    "    elif a == 4:\n",
    "        if j == 0: #same args\n",
    "            g(i,j)\n",
    "        else:\n",
    "            if brn[i,j-1] == 1:\n",
    "                brn[i,j-1] = 2\n",
    "            else:\n",
    "                brn[i,j-1] = 1\n",
    "            j -= 1\n",
    "    return i,j #returns present particle position"
   ]
  },
  {
   "cell_type": "code",
   "execution_count": 6,
   "metadata": {
    "scrolled": true
   },
   "outputs": [
    {
     "name": "stdout",
     "output_type": "stream",
     "text": [
      "Iteration 100 \t 0.74 sec \t 0.01 min\n",
      "Iteration 200 \t 1.67 sec \t 0.03 min\n",
      "Iteration 300 \t 2.09 sec \t 0.03 min\n",
      "Iteration 400 \t 2.49 sec \t 0.04 min\n",
      "Iteration 500 \t 2.97 sec \t 0.05 min\n",
      "Iteration 600 \t 3.62 sec \t 0.06 min\n",
      "Iteration 700 \t 4.12 sec \t 0.07 min\n",
      "Iteration 800 \t 4.59 sec \t 0.08 min\n",
      "Iteration 900 \t 5.02 sec \t 0.08 min\n",
      "Iteration 1000 \t 5.42 sec \t 0.09 min\n",
      "Iteration 2000 \t 9.60 sec \t 0.16 min\n",
      "Rendering...\n",
      "Done. Runtime: 1213.70 sec / 20.23 min\n"
     ]
    }
   ],
   "source": [
    "t0 = time.time()\n",
    "\n",
    "L = 101\n",
    "i = 50\n",
    "j = 50 #initial particle position at center of lattice\n",
    "fig = mp.figure()\n",
    "\n",
    "brn = np.zeros((L,L), int)\n",
    "brn[50,50] = 1\n",
    "brownian = [] #brownian is an array of arrays (brn)\n",
    "\n",
    "for k in range(2018): #10,000-100,000 iterations could not complete even if left to run overnight\n",
    "                        #1,000,000 iterations results in a MemoryError\n",
    "    i,j = g(i,j) #update current particle position\n",
    "    brown = mp.imshow(brn, animated=True, cmap=\"hot\", origin=\"lower\")\n",
    "    brownian.append([brown])\n",
    "    if k > 0 and k < 1000 and k%100 == 0:\n",
    "        print(\"Iteration %i \\t %.2f sec \\t %.2f min\" %(k, time.time()-t0, (time.time()-t0)/60))\n",
    "    elif k >= 1000 and k < 10000 and k%1000 == 0:\n",
    "        print(\"Iteration %i \\t %.2f sec \\t %.2f min\" %(k, time.time()-t0, (time.time()-t0)/60))\n",
    "    elif k >= 10000 and k < 100000 and k%10000 == 0:\n",
    "        print(\"Iteration %i \\t %.2f sec \\t %.2f min\" %(k, time.time()-t0, (time.time()-t0)/60))\n",
    "    elif k >= 100000 and k < 1000000 and k%100000 == 0:\n",
    "        print(\"Iteration %i \\t %.2f sec \\t %.2f min\" %(k, time.time()-t0, (time.time()-t0)/60))\n",
    "    if brn.all() != 0: #exit condition if all gridpoints have been passed through at least once, an attempt to cut runtime\n",
    "        break\n",
    "\n",
    "print(\"Rendering...\")\n",
    "motion = anim.ArtistAnimation(fig, brownian, interval=50, blit=True) #takes up most of the time\n",
    "motion.save(\"brownian-im.mp4\", writer=\"ffmpeg\")\n",
    "\n",
    "tfin = time.time()\n",
    "print(\"Done. Runtime: %.2f sec / %.2f min\" %(tfin-t0,(tfin-t0)/60))"
   ]
  },
  {
   "cell_type": "code",
   "execution_count": null,
   "metadata": {
    "collapsed": true
   },
   "outputs": [],
   "source": []
  }
 ],
 "metadata": {
  "kernelspec": {
   "display_name": "Python 3",
   "language": "python",
   "name": "python3"
  },
  "language_info": {
   "codemirror_mode": {
    "name": "ipython",
    "version": 3
   },
   "file_extension": ".py",
   "mimetype": "text/x-python",
   "name": "python",
   "nbconvert_exporter": "python",
   "pygments_lexer": "ipython3",
   "version": "3.6.8"
  },
  "latex_envs": {
   "LaTeX_envs_menu_present": true,
   "autoclose": true,
   "autocomplete": true,
   "bibliofile": "biblio.bib",
   "cite_by": "apalike",
   "current_citInitial": 1,
   "eqLabelWithNumbers": true,
   "eqNumInitial": 1,
   "hotkeys": {
    "equation": "Ctrl-E",
    "itemize": "Ctrl-I"
   },
   "labels_anchors": false,
   "latex_user_defs": false,
   "report_style_numbering": false,
   "user_envs_cfg": false
  },
  "varInspector": {
   "cols": {
    "lenName": 16,
    "lenType": 16,
    "lenVar": 40
   },
   "kernels_config": {
    "python": {
     "delete_cmd_postfix": "",
     "delete_cmd_prefix": "del ",
     "library": "var_list.py",
     "varRefreshCmd": "print(var_dic_list())"
    },
    "r": {
     "delete_cmd_postfix": ") ",
     "delete_cmd_prefix": "rm(",
     "library": "var_list.r",
     "varRefreshCmd": "cat(var_dic_list()) "
    }
   },
   "types_to_exclude": [
    "module",
    "function",
    "builtin_function_or_method",
    "instance",
    "_Feature"
   ],
   "window_display": false
  }
 },
 "nbformat": 4,
 "nbformat_minor": 2
}
