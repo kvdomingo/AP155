{
 "cells": [
  {
   "cell_type": "markdown",
   "metadata": {},
   "source": [
    "<h1>App Physics 155 - LE 4</h1>\n",
    "<h2>Kenneth V. Domingo<br />\n",
    "2015-03116</h2>"
   ]
  },
  {
   "cell_type": "markdown",
   "metadata": {},
   "source": [
    "<b>Problem 4.1: Rolling dice</b>\n",
    "\n",
    "a) Write a program that generates and prints out three random numbers between 1 and 6,\n",
    "to simulate the rolling of two dice.\n",
    "\n",
    "b) Modify your program to simulate the rolling of three dice a million times and count the number of times you get a triple six. Divide by a million to get the fraction of times you get a triple six. You should get something close to, though probably not exactly equal to, $\\frac{1}{216}$."
   ]
  },
  {
   "cell_type": "code",
   "execution_count": 1,
   "metadata": {
    "collapsed": true
   },
   "outputs": [],
   "source": [
    "import numpy.random as rand"
   ]
  },
  {
   "cell_type": "code",
   "execution_count": 24,
   "metadata": {},
   "outputs": [
    {
     "name": "stdout",
     "output_type": "stream",
     "text": [
      "5\n",
      "5\n",
      "3\n"
     ]
    }
   ],
   "source": [
    "for i in range(3):\n",
    "    print(rand.randint(1,7))"
   ]
  },
  {
   "cell_type": "code",
   "execution_count": 30,
   "metadata": {},
   "outputs": [
    {
     "name": "stdout",
     "output_type": "stream",
     "text": [
      "Dice probability: 0.004649\n",
      "1/216: 0.004629629629629629\n"
     ]
    }
   ],
   "source": [
    "counter = 0\n",
    "for i in range(int(1e6)):\n",
    "    a = rand.randint(1,7)\n",
    "    b = rand.randint(1,7)\n",
    "    c = rand.randint(1,7)\n",
    "    if a == 6 and b == 6 and c == 6:\n",
    "        counter += 1\n",
    "    else:\n",
    "        continue\n",
    "frac = counter/int(1e6)\n",
    "print(\"Dice probability:\", frac)\n",
    "print(\"1/216:\", 1/216)"
   ]
  }
 ],
 "metadata": {
  "kernelspec": {
   "display_name": "Python 3",
   "language": "python",
   "name": "python3"
  },
  "language_info": {
   "codemirror_mode": {
    "name": "ipython",
    "version": 3
   },
   "file_extension": ".py",
   "mimetype": "text/x-python",
   "name": "python",
   "nbconvert_exporter": "python",
   "pygments_lexer": "ipython3",
   "version": "3.6.1"
  }
 },
 "nbformat": 4,
 "nbformat_minor": 2
}
