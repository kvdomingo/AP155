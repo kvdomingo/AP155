{
 "cells": [
  {
   "cell_type": "markdown",
   "metadata": {},
   "source": [
    "<h1>App Physics 155 - LE 4</h1>\n",
    "<h2>Kenneth V. Domingo<br />\n",
    "2015-03116</h2>"
   ]
  },
  {
   "cell_type": "markdown",
   "metadata": {},
   "source": [
    "<b>Problem 4.3: </b>\n",
    "\n",
    "Calculate a value for the integral\n",
    "\n",
    "\\begin{equation}\n",
    "    I = \\int_0^1 \\frac{x^{-\\frac{1}{2}}}{e^x +1}\\textrm{ d}x\n",
    "\\end{equation}\n",
    "\n",
    "using the importance sampling formula,\n",
    "\n",
    "\\begin{equation}\n",
    "    I \\approx \\frac{1}{N}\\sum_{i=1}^{N} \\frac{f(x_i)}{w(x_i)}\\int_a^b w(x)\\textrm{ d}x\n",
    "\\end{equation}\n",
    "\n",
    "with $w(x) = x^{−\\frac{1}{2}}$, as follows.\n",
    "\n",
    "a) Show that the probability distribution $p(x)$ from which the sample points should be drawn is given by \n",
    "\n",
    "\\begin{equation}\n",
    "    p(x) = \\frac{1}{2\\sqrt{x}}\n",
    "\\end{equation}\n",
    "\n",
    "and derive a transformation formula for generating random numbers between zero and one from this distribution.\n",
    "\n",
    "b) Using your formula, sample $N$ = 1,000,000 random points and hence evaluate the integral. You should get a value around 0.84."
   ]
  },
  {
   "cell_type": "code",
   "execution_count": 1,
   "metadata": {
    "collapsed": true
   },
   "outputs": [],
   "source": [
    "import numpy as np\n",
    "import numpy.random as rand"
   ]
  },
  {
   "cell_type": "markdown",
   "metadata": {},
   "source": [
    "\\begin{equation}\n",
    "    x = z^2\n",
    "\\end{equation}\n",
    "\n",
    "\\begin{equation}\n",
    "    f(x) = \\frac{1}{1+e^x}\n",
    "\\end{equation}"
   ]
  },
  {
   "cell_type": "code",
   "execution_count": 2,
   "metadata": {},
   "outputs": [
    {
     "name": "stdout",
     "output_type": "stream",
     "text": [
      "0.838820798434\n"
     ]
    }
   ],
   "source": [
    "N = int(1e6)\n",
    "z = rand.random(N)\n",
    "x = z**2\n",
    "\n",
    "def f(x):\n",
    "    return 1/(1+np.exp(x))\n",
    "\n",
    "I = sum(f(x))/N*2\n",
    "print(I)"
   ]
  }
 ],
 "metadata": {
  "kernelspec": {
   "display_name": "Python 3",
   "language": "python",
   "name": "python3"
  },
  "language_info": {
   "codemirror_mode": {
    "name": "ipython",
    "version": 3
   },
   "file_extension": ".py",
   "mimetype": "text/x-python",
   "name": "python",
   "nbconvert_exporter": "python",
   "pygments_lexer": "ipython3",
   "version": "3.6.1"
  }
 },
 "nbformat": 4,
 "nbformat_minor": 2
}
