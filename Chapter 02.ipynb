{
 "cells": [
  {
   "cell_type": "markdown",
   "metadata": {},
   "source": [
    "<h1>App Physics 155 (lab)</h1><br />\n",
    "<b>Jan. 24, 2018</b>"
   ]
  },
  {
   "cell_type": "markdown",
   "metadata": {},
   "source": [
    "<b>Example 2.1:</b> A ball dropped from a tower<br /><br />\n",
    "A ball is dropped froma tower of height $h$. It has\n",
    "initial velocity zero and accelerates downwards under gravity. The challenge\n",
    "is to write a program that asks the user to enter the height in meters of the\n",
    "tower and a time interval $t$ in seconds, then prints on the screen the height of\n",
    "the ball above the ground at time $t$ after it is dropped, ignoring air resistance.<br />\n",
    "The steps involved are the following. First, we will use input statements\n",
    "to get the values of $h$ and $t$ from the user. Second, we will calculate how far\n",
    "the ball falls in the given time, using the standard kinematic formula \n",
    "\n",
    "\\begin{equation}\n",
    "    s = \\frac{1}{2}gt^2\n",
    "\\end{equation}\n",
    "\n",
    "where $g = 9.81$ ms$^{−2}$ is the acceleration due to gravity. Third, we print the\n",
    "height above the ground at time $t$, which is equal to the total height of the\n",
    "tower minus this value, or $h − s$."
   ]
  },
  {
   "cell_type": "code",
   "execution_count": null,
   "metadata": {
    "collapsed": true
   },
   "outputs": [],
   "source": [
    "g = 9.81\n",
    "h = float(input(\"Enter the height of the tower in meters: \"))\n",
    "t = float(input(\"Enter the time elapsed in seconds: \"))\n",
    "s = 1/2*g*t**2\n",
    "H = h - s\n",
    "\n",
    "if H < 0:\n",
    "    print(\"The ball has already hit the ground!\")\n",
    "else:\n",
    "    print(\"The ball is \", H, \" meters above the ground.\")"
   ]
  },
  {
   "cell_type": "markdown",
   "metadata": {},
   "source": [
    "<b>Exercise 2.2: </b>Altitude of a satellite<br />\n",
    "A satellite is to be launched into a circular orbit around the Earth so that it orbits the\n",
    "planet once every $T$ seconds.<br /><br />\n",
    "<b>(b)</b> Write a program that asks the user to enter the desired value of $T$ and then calculates\n",
    "and prints out the correct altitude in meters."
   ]
  },
  {
   "cell_type": "code",
   "execution_count": 6,
   "metadata": {},
   "outputs": [
    {
     "name": "stdout",
     "output_type": "stream",
     "text": [
      "Enter the desired orbital period in minutes: 90\n",
      "The orbital altitude must be  279321.6253728606  meters.\n"
     ]
    }
   ],
   "source": [
    "from math import pi\n",
    "\n",
    "G = 6.67e-11\n",
    "M = 5.97e24\n",
    "R = 6371e3\n",
    "T = float(input(\"Enter the desired orbital period in minutes: \"))\n",
    "T *= 60\n",
    "h = ((G*M*T**2)/(4*pi**2))**(1/3) - R\n",
    "print(\"The orbital altitude must be \", h, \" meters.\")"
   ]
  },
  {
   "cell_type": "markdown",
   "metadata": {},
   "source": [
    "<b>(c)</b> Use your program to calculate the altitudes of satellites that orbit the Earth once\n",
    "a day (so-called “geosynchronous” orbit), once every 90 minutes, and once every\n",
    "45 minutes. What do you conclude from the last of these calculations?"
   ]
  },
  {
   "cell_type": "code",
   "execution_count": 7,
   "metadata": {},
   "outputs": [
    {
     "name": "stdout",
     "output_type": "stream",
     "text": [
      "Enter the desired orbital period in minutes: 90\n",
      "The orbital altitude must be  279321.6253728606  meters.\n"
     ]
    }
   ],
   "source": [
    "from math import pi\n",
    "\n",
    "G = 6.67e-11\n",
    "M = 5.97e24\n",
    "R = 6371e3\n",
    "T = float(input(\"Enter the desired orbital period in minutes: \"))\n",
    "T *= 60\n",
    "h = ((G*M*T**2)/(4*pi**2))**(1/3) - R\n",
    "print(\"The orbital altitude must be \", h, \" meters.\")"
   ]
  },
  {
   "cell_type": "code",
   "execution_count": 8,
   "metadata": {},
   "outputs": [
    {
     "name": "stdout",
     "output_type": "stream",
     "text": [
      "Enter the desired orbital period in minutes: 45\n",
      "The orbital altitude must be  -2181559.8978108233  meters.\n"
     ]
    }
   ],
   "source": [
    "from math import pi\n",
    "\n",
    "G = 6.67e-11\n",
    "M = 5.97e24\n",
    "R = 6371e3\n",
    "T = float(input(\"Enter the desired orbital period in minutes: \"))\n",
    "T *= 60\n",
    "h = ((G*M*T**2)/(4*pi**2))**(1/3) - R\n",
    "print(\"The orbital altitude must be \", h, \" meters.\")"
   ]
  },
  {
   "cell_type": "markdown",
   "metadata": {},
   "source": [
    "This indicates that it is not possible to have an orbital period of 45 minutes, lest it hit the ground."
   ]
  },
  {
   "cell_type": "markdown",
   "metadata": {},
   "source": [
    "<b>(d)</b> Technically a geosynchronous satellite is one that orbits the Earth once per sidereal\n",
    "day, which is 23.93 hours, not 24 hours. Why is this? And how much difference\n",
    "will it make to the altitude of the satellite?"
   ]
  },
  {
   "cell_type": "code",
   "execution_count": 9,
   "metadata": {},
   "outputs": [
    {
     "name": "stdout",
     "output_type": "stream",
     "text": [
      "The orbital altitude for a 24 hour period is  35855910.176174976  meters.\n",
      "The orbital altitude for a 23.93 hour period is  35773762.329895645  meters.\n",
      "The difference is  82147.84627933055  meters.\n"
     ]
    }
   ],
   "source": [
    "from math import pi\n",
    "\n",
    "G = 6.67e-11\n",
    "M = 5.97e24\n",
    "R = 6371e3\n",
    "T1,T2 = 24*60*60, 23.93*60*60 #To convert to SI units\n",
    "h1,h2 = ((G*M*T1**2)/(4*pi**2))**(1/3) - R, ((G*M*T2**2)/(4*pi**2))**(1/3) - R\n",
    "print(\"The orbital altitude for a 24 hour period is \", h1, \" meters.\")\n",
    "print(\"The orbital altitude for a 23.93 hour period is \", h2, \" meters.\")\n",
    "print(\"The difference is \", h1-h2, \" meters.\")"
   ]
  },
  {
   "cell_type": "markdown",
   "metadata": {},
   "source": [
    "<b>Example 2.2: </b>Converting polar coordinates<br /><br />\n",
    "Suppose the position of a point in two-dimensional space is given to us in polar\n",
    "coordinates $r$, $\\theta$ and we want to convert it to Cartesian coordinates $x$, $y$. How\n",
    "would we write a program to do this?"
   ]
  },
  {
   "cell_type": "code",
   "execution_count": 12,
   "metadata": {},
   "outputs": [
    {
     "name": "stdout",
     "output_type": "stream",
     "text": [
      "Enter the radius: 1\n",
      "Enter the angle in degrees: 45\n",
      "x =  0.7071067811865476 y =  0.7071067811865476\n"
     ]
    }
   ],
   "source": [
    "from math import cos, sin, pi\n",
    "\n",
    "r = float(input(\"Enter the radius: \"))\n",
    "theta = float(input(\"Enter the angle in degrees: \"))\n",
    "theta *= pi/180\n",
    "x = r*cos(theta)\n",
    "y = r*sin(theta)\n",
    "print(\"x = \",x, \"y = \", y)"
   ]
  },
  {
   "cell_type": "markdown",
   "metadata": {},
   "source": [
    "<b>Exercise 2.5: </b>Quantum potential step<br /><br />\n",
    "A well-known quantum mechanics problem involves a particle of mass m that encounters\n",
    "a one-dimensional potential step. The particle with initial kinetic energy $E$ and wavevector $k_1 = \\sqrt{2mE}/\\hbar$ enters from the\n",
    "left and encounters a sudden jump in potential energy of height $V$ at position $x = 0$.\n",
    "By solving the Schrodinger equation, one can show that when $E > V$ the particle may\n",
    "either (a) pass the step, in which case it has a lower kinetic energy of $E−V$ on the other\n",
    "side and a correspondingly smaller wavevector of $k2 = \\sqrt{2m(E − V)}/\\hbar$, or (b) it may\n",
    "be reflected, keeping all of its kinetic energy and an unchanged wavevector butmoving\n",
    "in the opposite direction. The probabilities $T$ and $R$ for transmission and reflection are\n",
    "given by\n",
    "\n",
    "\\begin{equation}\n",
    "    T = \\frac{4k_1k_2}{(k_1 + k_2)^2}\n",
    "\\end{equation}\n",
    "\n",
    "\\begin{equation}\n",
    "    R = (\\frac{k_1-k_2}{k_1+k_2})^2\n",
    "\\end{equation}\n",
    "\n",
    "Suppose we have a particle with mass equal to the electron mass $m = 9.11 \\times 10^{−31}$ kg and energy 10 eV encountering a potential step of height 9 eV. Write a Python program to compute and print out the transmission and reflection probabilities using the formulas above."
   ]
  },
  {
   "cell_type": "code",
   "execution_count": 16,
   "metadata": {},
   "outputs": [
    {
     "name": "stdout",
     "output_type": "stream",
     "text": [
      "Transmission probability:  0.7301261363877617\n",
      "Reflection probability:  0.2698738636122385\n",
      "Total =  1.0000000000000002\n"
     ]
    }
   ],
   "source": [
    "from math import pi, sqrt\n",
    "\n",
    "hbar = 4.135e-15/(2*pi) #eV*s\n",
    "m = 9.11e-31 #kilograms, mass of electron\n",
    "E = 10 #eV\n",
    "V = 9 #eV\n",
    "k1 = sqrt(2*m*E)/hbar\n",
    "k2 = sqrt(2*m*(E-V))/hbar\n",
    "T = (4*k1*k2)/(k1+k2)**2\n",
    "R = ((k1-k2)/(k1+k2))**2\n",
    "print(\"Transmission probability: \", T)\n",
    "print(\"Reflection probability: \", R)\n",
    "print(\"Total = \", T+R)"
   ]
  },
  {
   "cell_type": "markdown",
   "metadata": {},
   "source": [
    "<b>Example 2.3: </b>Even and odd numbers<br /><br />\n",
    "Suppose we want to write a program that takes as input a single integer and\n",
    "prints out the word “even” if the number is even, and “odd” if the number is\n",
    "odd. We can do this by making use of the fact that n modulo 2 is zero if (and\n",
    "only if) n is even."
   ]
  },
  {
   "cell_type": "code",
   "execution_count": 3,
   "metadata": {},
   "outputs": [
    {
     "name": "stdout",
     "output_type": "stream",
     "text": [
      "Enter an integer: 11\n",
      "Your number  11  is odd.\n"
     ]
    }
   ],
   "source": [
    "n = int(input(\"Enter an integer: \"))\n",
    "if n%2 == 0:\n",
    "    print(\"Your number \", n, \" is even.\")\n",
    "else:\n",
    "    print(\"Your number \", n, \" is odd.\")"
   ]
  },
  {
   "cell_type": "code",
   "execution_count": 5,
   "metadata": {},
   "outputs": [
    {
     "name": "stdout",
     "output_type": "stream",
     "text": [
      "Enter two integers, one even, one odd.\n",
      "Enter the first integer: 1\n",
      "Enter the second integer: 1\n",
      "One must be even and the other odd.\n",
      "Enter the first integer: 2\n",
      "Enter the second integer: 2\n",
      "One must be even and the other odd.\n",
      "Enter the first integer: 1\n",
      "Enter the second integer: -1\n",
      "One must be even and the other odd.\n",
      "Enter the first integer: 3\n",
      "Enter the second integer: 2\n",
      "The numbers you chose are 3 and 2\n"
     ]
    }
   ],
   "source": [
    "print(\"Enter two integers, one even, one odd.\")\n",
    "m = int(input(\"Enter the first integer: \"))\n",
    "n = int(input(\"Enter the second integer: \"))\n",
    "while (m+n)%2==0:\n",
    "    print(\"One must be even and the other odd.\")\n",
    "    m = int(input(\"Enter the first integer: \"))\n",
    "    n = int(input(\"Enter the second integer: \"))\n",
    "print(\"The numbers you chose are\",m,\"and\",n)"
   ]
  },
  {
   "cell_type": "markdown",
   "metadata": {},
   "source": [
    "<b>Example 2.4: </b>The Fibonacci sequence<br /><br />\n",
    "The Fibonacci numbers are the sequence of integers in which each is the sum\n",
    "of the previous two, with the first two numbers being 1, 1. Thus the first few\n",
    "members of the sequence are 1, 1, 2, 3, 5, 8, 13, 21. Supposewewant to calculate\n",
    "the Fibonacci numbers up to 1000. This would be quite a laborious task for a\n",
    "human, but it is straightforward for a computer program. All the program\n",
    "needs to do is keep a record of the most recent two numbers in the sequence,\n",
    "add them together to calculate the next number, then keep on repeating for as\n",
    "long as the numbers are less than 1000."
   ]
  },
  {
   "cell_type": "code",
   "execution_count": 6,
   "metadata": {},
   "outputs": [
    {
     "name": "stdout",
     "output_type": "stream",
     "text": [
      "1\n",
      "1\n",
      "2\n",
      "3\n",
      "5\n",
      "8\n",
      "13\n",
      "21\n",
      "34\n",
      "55\n",
      "89\n",
      "144\n",
      "233\n",
      "377\n",
      "610\n",
      "987\n"
     ]
    }
   ],
   "source": [
    "m = 1\n",
    "n = 1\n",
    "next = m + n\n",
    "while m <= 1000:\n",
    "    print(m)\n",
    "    m = n\n",
    "    n = next\n",
    "    next = m + n"
   ]
  },
  {
   "cell_type": "markdown",
   "metadata": {},
   "source": [
    "<b>Exercise 2.7: </b>Catalan numbers<br /><br />\n",
    "The Catalan numbers Cn are a sequence of integers 1, 1, 2, 5, 14, 42, 132. . . that play\n",
    "an important role in quantum mechanics and the theory of disordered systems. (They were central to EugeneWigner’s proof of the so-called semicircle law.) Write a program that prints in increasing order all Catalan numbers less than or equal to one billion. They are given by\n",
    "\n",
    "\\begin{equation}\n",
    "    C_{n+1} = \\frac{4n+2}{n+2}C_n\n",
    "\\end{equation}"
   ]
  },
  {
   "cell_type": "code",
   "execution_count": 13,
   "metadata": {},
   "outputs": [
    {
     "name": "stdout",
     "output_type": "stream",
     "text": [
      "1\n",
      "1\n",
      "2\n",
      "5\n",
      "14\n",
      "42\n",
      "132\n",
      "429\n",
      "1430\n",
      "4862\n",
      "16796\n",
      "58786\n",
      "208012\n",
      "742900\n",
      "2674440\n",
      "9694845\n",
      "35357670\n",
      "129644790\n",
      "477638700\n"
     ]
    }
   ],
   "source": [
    "n = 2\n",
    "C0 = 1\n",
    "C1 = 1\n",
    "print(C0)\n",
    "print(C1)\n",
    "Cn = (4*(n-1) + 2)//((n-1) + 2) * C1\n",
    "while Cn <= 1e9:\n",
    "    print(Cn)\n",
    "    Cnext = (4*n + 2)*Cn//(n + 2)\n",
    "    Cn = Cnext\n",
    "    n += 1"
   ]
  },
  {
   "cell_type": "markdown",
   "metadata": {},
   "source": [
    "<b>Exercise 2.8: </b>"
   ]
  },
  {
   "cell_type": "code",
   "execution_count": 14,
   "metadata": {},
   "outputs": [
    {
     "name": "stdout",
     "output_type": "stream",
     "text": [
      "[ 3.  3.  3.  3.]\n",
      "[ 1.          1.33333333  1.5         1.6       ]\n",
      "[ 1.          0.5         0.33333333  0.25      ]\n"
     ]
    }
   ],
   "source": [
    "from numpy import array\n",
    "a = array([ 1, 2, 3, 4 ], int)\n",
    "b = array([ 2, 4, 6, 8 ], int)\n",
    "\n",
    "print(b/a+1)\n",
    "print(b/(a+1))\n",
    "print(1/a)"
   ]
  },
  {
   "cell_type": "markdown",
   "metadata": {},
   "source": [
    "<b>Example 2.6: </b>Performing a sum"
   ]
  },
  {
   "cell_type": "code",
   "execution_count": 15,
   "metadata": {},
   "outputs": [
    {
     "name": "stdout",
     "output_type": "stream",
     "text": [
      "5.187377517639621\n"
     ]
    }
   ],
   "source": [
    "s = 0.0\n",
    "for k in range(1,101):\n",
    "    s += 1/k\n",
    "print(s)"
   ]
  },
  {
   "cell_type": "markdown",
   "metadata": {},
   "source": [
    "<b>Example 2.7: </b>Emission lines of hydrogen"
   ]
  },
  {
   "cell_type": "code",
   "execution_count": 17,
   "metadata": {},
   "outputs": [
    {
     "name": "stdout",
     "output_type": "stream",
     "text": [
      "Series for m = 1\n",
      "     121.5436037678517  nm\n",
      "     102.55241567912488  nm\n",
      "     97.23488301428137  nm\n",
      "     94.95594044363415  nm\n",
      "     93.76220862091418  nm\n",
      "Series for m = 2\n",
      "     656.3354603463993  nm\n",
      "     486.1744150714068  nm\n",
      "     434.084299170899  nm\n",
      "     410.2096627164995  nm\n",
      "     397.04243897498225  nm\n",
      "Series for m = 3\n",
      "     1875.2441724182836  nm\n",
      "     1281.9051959890612  nm\n",
      "     1093.8924339106654  nm\n",
      "     1005.013673655424  nm\n",
      "     954.6697605038536  nm\n"
     ]
    }
   ],
   "source": [
    "R = 1.097e-2\n",
    "for m in range(1,4):\n",
    "    print(\"Series for m =\",m)\n",
    "    for n in range(m+1,m+6):\n",
    "        invlambda = R*(1/m**2 - 1/n**2)\n",
    "        print(\"    \", 1/invlambda,\" nm\")"
   ]
  },
  {
   "cell_type": "markdown",
   "metadata": {},
   "source": [
    "<b>Exercise 2.9: </b>The Madelung constant<br /><br />\n",
    "\n",
    "In condensed matter physics the Madelung constant gives the total electric potential\n",
    "felt by an atom in a solid. It depends on the charges on the other atoms nearby and\n",
    "their locations. Consider for instance solid sodium chloride—table salt. The sodium\n",
    "chloride crystal has atoms arranged on a cubic lattice, but with alternating sodium and\n",
    "chlorine atoms, the sodium ones having a single positive charge $+e$ and the chlorine\n",
    "ones a single negative charge $−e$, where $e$ is the charge on the electron. If we label each\n",
    "position on the lattice by three integer coordinates ($i, j, k$), then the sodium atoms fall\n",
    "at positions where $i + j + k$ is even, and the chlorine atoms at positions where $i + j + k$\n",
    "is odd.<br />\n",
    "Consider a sodium atom at the origin, $i = j = k = 0$, and let us calculate the\n",
    "Madelung constant. If the spacing of atoms on the lattice is $a$, then the distance from\n",
    "the origin to the atom at position ($i, j, k$) is\n",
    "\n",
    "\\begin{equation}\n",
    "    \\sqrt{(ia)^2 + (ja)^2 + (ka)^2} = a \\sqrt{i^2 + j^2 + k^2}\n",
    "\\end{equation}\n",
    "\n",
    "and the potential at the origin created by such an atom is\n",
    "\n",
    "\\begin{equation}\n",
    "    V(i, j, k) = \\pm \\frac{e}{4\\pi \\epsilon_0 a \\sqrt{i^2 + j^2 + k^2}}\n",
    "\\end{equation}\n",
    "\n",
    "with $\\epsilon_0$ being the permittivity of the vacuum and the sign of the expression depending\n",
    "on whether $i + j + k$ is even or odd. The total potential felt by the sodium atom is then\n",
    "the sum of this quantity over all other atoms. Let us assume a cubic box around the\n",
    "sodium at the origin, with $L$ atoms in all directions. Then\n",
    "\n",
    "\\begin{equation}\n",
    "    V_{total} = \\sum_{i,j,k=-L, not i=j=k=0}^{L} V(i,j,k) = \\frac{e}{4\\pi \\epsilon_0 a}M\n",
    "\\end{equation}\n",
    "\n",
    "where $M$ is the Madelung constant, at least approximately—technically the Madelung\n",
    "constant is the value of $M$ when $L \\rightarrow \\infty$, but one can get a good approximation just by\n",
    "using a large value of $L$.<br /><br />\n",
    "\n",
    "Write a program to calculate and print the Madelung constant for sodium chloride.\n",
    "Use as large a value of $L$ as you can, while still having your program run in reasonable time—say in a minute or less."
   ]
  },
  {
   "cell_type": "code",
   "execution_count": 55,
   "metadata": {},
   "outputs": [
    {
     "name": "stdout",
     "output_type": "stream",
     "text": [
      "-2.495897327618135\n"
     ]
    }
   ],
   "source": [
    "from math import sqrt\n",
    "\n",
    "M = 0.0\n",
    "x = set(range(-50,51)) - set([0])\n",
    "for i in list(x):\n",
    "    for j in list(x):\n",
    "        for k in list(x):\n",
    "            M += (-1)**(i+j+k)/sqrt(i**2 + j**2 + k**2)\n",
    "        M += (-1)**(i+j+k)/sqrt(i**2 + j**2 + k**2)\n",
    "    M += (-1)**(i+j+k)/sqrt(i**2 + j**2 + k**2)\n",
    "print(M)"
   ]
  },
  {
   "cell_type": "code",
   "execution_count": null,
   "metadata": {
    "collapsed": true
   },
   "outputs": [],
   "source": []
  }
 ],
 "metadata": {
  "kernelspec": {
   "display_name": "Python 3 (ipykernel)",
   "language": "python",
   "name": "python3"
  },
  "language_info": {
   "codemirror_mode": {
    "name": "ipython",
    "version": 3
   },
   "file_extension": ".py",
   "mimetype": "text/x-python",
   "name": "python",
   "nbconvert_exporter": "python",
   "pygments_lexer": "ipython3",
   "version": "3.9.7"
  },
  "latex_envs": {
   "LaTeX_envs_menu_present": true,
   "autoclose": false,
   "autocomplete": true,
   "bibliofile": "biblio.bib",
   "cite_by": "apalike",
   "current_citInitial": 1,
   "eqLabelWithNumbers": true,
   "eqNumInitial": 1,
   "hotkeys": {
    "equation": "Ctrl-E",
    "itemize": "Ctrl-I"
   },
   "labels_anchors": false,
   "latex_user_defs": false,
   "report_style_numbering": false,
   "user_envs_cfg": false
  },
  "varInspector": {
   "cols": {
    "lenName": 16,
    "lenType": 16,
    "lenVar": 40
   },
   "kernels_config": {
    "python": {
     "delete_cmd_postfix": "",
     "delete_cmd_prefix": "del ",
     "library": "var_list.py",
     "varRefreshCmd": "print(var_dic_list())"
    },
    "r": {
     "delete_cmd_postfix": ") ",
     "delete_cmd_prefix": "rm(",
     "library": "var_list.r",
     "varRefreshCmd": "cat(var_dic_list()) "
    }
   },
   "types_to_exclude": [
    "module",
    "function",
    "builtin_function_or_method",
    "instance",
    "_Feature"
   ],
   "window_display": false
  }
 },
 "nbformat": 4,
 "nbformat_minor": 2
}